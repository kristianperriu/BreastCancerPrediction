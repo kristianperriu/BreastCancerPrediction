{
  "cells": [
    {
      "cell_type": "markdown",
      "source": [
        "#Needed libraries"
      ],
      "metadata": {
        "id": "DaTlpwd7GypX"
      }
    },
    {
      "cell_type": "code",
      "execution_count": 508,
      "metadata": {
        "colab": {
          "base_uri": "https://localhost:8080/"
        },
        "id": "667OD36_skUN",
        "outputId": "f2e3e5ff-9401-4bb2-dcc9-79b64cc939d3"
      },
      "outputs": [
        {
          "output_type": "stream",
          "name": "stderr",
          "text": [
            "Loading required package: PRROC\n",
            "\n",
            "Warning message in library(package, lib.loc = lib.loc, character.only = TRUE, logical.return = TRUE, :\n",
            "“there is no package called ‘PRROC’”\n",
            "Installing package into ‘/usr/local/lib/R/site-library’\n",
            "(as ‘lib’ is unspecified)\n",
            "\n"
          ]
        }
      ],
      "source": [
        "if (!require(\"caret\")) install.packages(\"caret\")\n",
        "if (!require(\"rBayesianOptimization\")) install.packages(\"rBayesianOptimization\")\n",
        "if (!require(\"e1071\")) install.packages(\"e1071\")\n",
        "if (!require(\"randomForest\")) install.packages(\"randomForest\")\n",
        "if (!require(\"gbm\")) install.packages(\"gbm\")\n",
        "if (!require(\"kknn\")) install.packages(\"kknn\")\n",
        "if (!require(\"class\")) install.packages(\"class\")\n",
        "if (!require(\"kernlab\")) install.packages(\"kernlab\")\n",
        "if (!require(\"smotefamily\")) install.packages(\"smotefamily\")\n",
        "if (!require(\"ROSE\")) install.packages(\"ROSE\")\n",
        "if (!require(\"PRROC\")) install.packages(\"PRROC\")\n"
      ]
    },
    {
      "cell_type": "code",
      "execution_count": 509,
      "metadata": {
        "id": "859GD223sfbV",
        "colab": {
          "base_uri": "https://localhost:8080/"
        },
        "outputId": "2f646463-3e4b-4cc9-f6d2-3f9acc5baffb"
      },
      "outputs": [
        {
          "output_type": "stream",
          "name": "stderr",
          "text": [
            "\n",
            "Attaching package: ‘PRROC’\n",
            "\n",
            "\n",
            "The following object is masked from ‘package:ROSE’:\n",
            "\n",
            "    roc.curve\n",
            "\n",
            "\n"
          ]
        }
      ],
      "source": [
        "library(readxl)\n",
        "library(dplyr)\n",
        "library(caret)\n",
        "library(rBayesianOptimization)\n",
        "library(e1071)\n",
        "library(randomForest)\n",
        "library(class)\n",
        "library(gbm)\n",
        "library(kknn)\n",
        "library(kernlab)\n",
        "library(smotefamily)\n",
        "library(ROSE)\n",
        "library(ggplot2)\n",
        "library(pROC)\n",
        "library(PRROC)\n"
      ]
    },
    {
      "cell_type": "markdown",
      "source": [
        "#Basic statistics"
      ],
      "metadata": {
        "id": "jqiH6gwEFBuE"
      }
    },
    {
      "cell_type": "code",
      "execution_count": null,
      "metadata": {
        "colab": {
          "base_uri": "https://localhost:8080/",
          "height": 445
        },
        "id": "hea6RV9errec",
        "outputId": "7332c6e3-0992-405d-e55f-e4aad5f852a6"
      },
      "outputs": [
        {
          "output_type": "display_data",
          "data": {
            "text/html": [
              "<table class=\"dataframe\">\n",
              "<caption>A tibble: 6 × 16</caption>\n",
              "<thead>\n",
              "\t<tr><th scope=col>Age</th><th scope=col>Race</th><th scope=col>Marital Status</th><th scope=col>T Stage</th><th scope=col>N Stage</th><th scope=col>6th Stage</th><th scope=col>differentiate</th><th scope=col>Grade</th><th scope=col>A Stage</th><th scope=col>Tumor Size</th><th scope=col>Estrogen Status</th><th scope=col>Progesterone Status</th><th scope=col>Regional Node Examined</th><th scope=col>Reginol Node Positive</th><th scope=col>Survival Months</th><th scope=col>Status</th></tr>\n",
              "\t<tr><th scope=col>&lt;dbl&gt;</th><th scope=col>&lt;chr&gt;</th><th scope=col>&lt;chr&gt;</th><th scope=col>&lt;chr&gt;</th><th scope=col>&lt;chr&gt;</th><th scope=col>&lt;chr&gt;</th><th scope=col>&lt;chr&gt;</th><th scope=col>&lt;chr&gt;</th><th scope=col>&lt;chr&gt;</th><th scope=col>&lt;dbl&gt;</th><th scope=col>&lt;chr&gt;</th><th scope=col>&lt;chr&gt;</th><th scope=col>&lt;dbl&gt;</th><th scope=col>&lt;dbl&gt;</th><th scope=col>&lt;dbl&gt;</th><th scope=col>&lt;chr&gt;</th></tr>\n",
              "</thead>\n",
              "<tbody>\n",
              "\t<tr><td>68</td><td>White</td><td>Married </td><td>T1</td><td>N1</td><td>IIA </td><td>Poorly differentiated    </td><td>3</td><td>Regional</td><td> 4</td><td>Positive</td><td>Positive</td><td>24</td><td>1</td><td>60</td><td>Alive</td></tr>\n",
              "\t<tr><td>50</td><td>White</td><td>Married </td><td>T2</td><td>N2</td><td>IIIA</td><td>Moderately differentiated</td><td>2</td><td>Regional</td><td>35</td><td>Positive</td><td>Positive</td><td>14</td><td>5</td><td>62</td><td>Alive</td></tr>\n",
              "\t<tr><td>58</td><td>White</td><td>Divorced</td><td>T3</td><td>N3</td><td>IIIC</td><td>Moderately differentiated</td><td>2</td><td>Regional</td><td>63</td><td>Positive</td><td>Positive</td><td>14</td><td>7</td><td>75</td><td>Alive</td></tr>\n",
              "\t<tr><td>58</td><td>White</td><td>Married </td><td>T1</td><td>N1</td><td>IIA </td><td>Poorly differentiated    </td><td>3</td><td>Regional</td><td>18</td><td>Positive</td><td>Positive</td><td> 2</td><td>1</td><td>84</td><td>Alive</td></tr>\n",
              "\t<tr><td>47</td><td>White</td><td>Married </td><td>T2</td><td>N1</td><td>IIB </td><td>Poorly differentiated    </td><td>3</td><td>Regional</td><td>41</td><td>Positive</td><td>Positive</td><td> 3</td><td>1</td><td>50</td><td>Alive</td></tr>\n",
              "\t<tr><td>51</td><td>White</td><td>Single  </td><td>T1</td><td>N1</td><td>IIA </td><td>Moderately differentiated</td><td>2</td><td>Regional</td><td>20</td><td>Positive</td><td>Positive</td><td>18</td><td>2</td><td>89</td><td>Alive</td></tr>\n",
              "</tbody>\n",
              "</table>\n"
            ],
            "text/markdown": "\nA tibble: 6 × 16\n\n| Age &lt;dbl&gt; | Race &lt;chr&gt; | Marital Status &lt;chr&gt; | T Stage &lt;chr&gt; | N Stage &lt;chr&gt; | 6th Stage &lt;chr&gt; | differentiate &lt;chr&gt; | Grade &lt;chr&gt; | A Stage &lt;chr&gt; | Tumor Size &lt;dbl&gt; | Estrogen Status &lt;chr&gt; | Progesterone Status &lt;chr&gt; | Regional Node Examined &lt;dbl&gt; | Reginol Node Positive &lt;dbl&gt; | Survival Months &lt;dbl&gt; | Status &lt;chr&gt; |\n|---|---|---|---|---|---|---|---|---|---|---|---|---|---|---|---|\n| 68 | White | Married  | T1 | N1 | IIA  | Poorly differentiated     | 3 | Regional |  4 | Positive | Positive | 24 | 1 | 60 | Alive |\n| 50 | White | Married  | T2 | N2 | IIIA | Moderately differentiated | 2 | Regional | 35 | Positive | Positive | 14 | 5 | 62 | Alive |\n| 58 | White | Divorced | T3 | N3 | IIIC | Moderately differentiated | 2 | Regional | 63 | Positive | Positive | 14 | 7 | 75 | Alive |\n| 58 | White | Married  | T1 | N1 | IIA  | Poorly differentiated     | 3 | Regional | 18 | Positive | Positive |  2 | 1 | 84 | Alive |\n| 47 | White | Married  | T2 | N1 | IIB  | Poorly differentiated     | 3 | Regional | 41 | Positive | Positive |  3 | 1 | 50 | Alive |\n| 51 | White | Single   | T1 | N1 | IIA  | Moderately differentiated | 2 | Regional | 20 | Positive | Positive | 18 | 2 | 89 | Alive |\n\n",
            "text/latex": "A tibble: 6 × 16\n\\begin{tabular}{llllllllllllllll}\n Age & Race & Marital Status & T Stage & N Stage & 6th Stage & differentiate & Grade & A Stage & Tumor Size & Estrogen Status & Progesterone Status & Regional Node Examined & Reginol Node Positive & Survival Months & Status\\\\\n <dbl> & <chr> & <chr> & <chr> & <chr> & <chr> & <chr> & <chr> & <chr> & <dbl> & <chr> & <chr> & <dbl> & <dbl> & <dbl> & <chr>\\\\\n\\hline\n\t 68 & White & Married  & T1 & N1 & IIA  & Poorly differentiated     & 3 & Regional &  4 & Positive & Positive & 24 & 1 & 60 & Alive\\\\\n\t 50 & White & Married  & T2 & N2 & IIIA & Moderately differentiated & 2 & Regional & 35 & Positive & Positive & 14 & 5 & 62 & Alive\\\\\n\t 58 & White & Divorced & T3 & N3 & IIIC & Moderately differentiated & 2 & Regional & 63 & Positive & Positive & 14 & 7 & 75 & Alive\\\\\n\t 58 & White & Married  & T1 & N1 & IIA  & Poorly differentiated     & 3 & Regional & 18 & Positive & Positive &  2 & 1 & 84 & Alive\\\\\n\t 47 & White & Married  & T2 & N1 & IIB  & Poorly differentiated     & 3 & Regional & 41 & Positive & Positive &  3 & 1 & 50 & Alive\\\\\n\t 51 & White & Single   & T1 & N1 & IIA  & Moderately differentiated & 2 & Regional & 20 & Positive & Positive & 18 & 2 & 89 & Alive\\\\\n\\end{tabular}\n",
            "text/plain": [
              "  Age Race  Marital Status T Stage N Stage 6th Stage differentiate            \n",
              "1 68  White Married        T1      N1      IIA       Poorly differentiated    \n",
              "2 50  White Married        T2      N2      IIIA      Moderately differentiated\n",
              "3 58  White Divorced       T3      N3      IIIC      Moderately differentiated\n",
              "4 58  White Married        T1      N1      IIA       Poorly differentiated    \n",
              "5 47  White Married        T2      N1      IIB       Poorly differentiated    \n",
              "6 51  White Single         T1      N1      IIA       Moderately differentiated\n",
              "  Grade A Stage  Tumor Size Estrogen Status Progesterone Status\n",
              "1 3     Regional  4         Positive        Positive           \n",
              "2 2     Regional 35         Positive        Positive           \n",
              "3 2     Regional 63         Positive        Positive           \n",
              "4 3     Regional 18         Positive        Positive           \n",
              "5 3     Regional 41         Positive        Positive           \n",
              "6 2     Regional 20         Positive        Positive           \n",
              "  Regional Node Examined Reginol Node Positive Survival Months Status\n",
              "1 24                     1                     60              Alive \n",
              "2 14                     5                     62              Alive \n",
              "3 14                     7                     75              Alive \n",
              "4  2                     1                     84              Alive \n",
              "5  3                     1                     50              Alive \n",
              "6 18                     2                     89              Alive "
            ]
          },
          "metadata": {}
        }
      ],
      "source": [
        "file_path <- \"/content/Breast_Cancer.xlsx\"\n",
        "\n",
        "# Read the data from the Excel file\n",
        "data <- read_excel(file_path)\n",
        "head(data)"
      ]
    },
    {
      "cell_type": "code",
      "source": [
        "print(colnames(data))"
      ],
      "metadata": {
        "colab": {
          "base_uri": "https://localhost:8080/"
        },
        "id": "j9UWAissC2Oo",
        "outputId": "13d8f953-8743-4390-f64f-6815f3249733"
      },
      "execution_count": null,
      "outputs": [
        {
          "output_type": "stream",
          "name": "stdout",
          "text": [
            " [1] \"Age\"                    \"Race\"                   \"Marital Status\"        \n",
            " [4] \"T Stage\"                \"N Stage\"                \"6th Stage\"             \n",
            " [7] \"differentiate\"          \"Grade\"                  \"A Stage\"               \n",
            "[10] \"Tumor Size\"             \"Estrogen Status\"        \"Progesterone Status\"   \n",
            "[13] \"Regional Node Examined\" \"Reginol Node Positive\"  \"Survival Months\"       \n",
            "[16] \"Status\"                \n"
          ]
        }
      ]
    },
    {
      "cell_type": "code",
      "source": [
        "# Basic statistics for column types\n",
        "column_types <- sapply(data, class)\n",
        "print(column_types)"
      ],
      "metadata": {
        "colab": {
          "base_uri": "https://localhost:8080/"
        },
        "id": "-BlP4DtiFI-v",
        "outputId": "e9384159-f542-49ee-edd5-6a9161691513"
      },
      "execution_count": null,
      "outputs": [
        {
          "output_type": "stream",
          "name": "stdout",
          "text": [
            "                   Age                   Race         Marital Status \n",
            "             \"numeric\"            \"character\"            \"character\" \n",
            "               T Stage                N Stage              6th Stage \n",
            "           \"character\"            \"character\"            \"character\" \n",
            "         differentiate                  Grade                A Stage \n",
            "           \"character\"            \"character\"            \"character\" \n",
            "            Tumor Size        Estrogen Status    Progesterone Status \n",
            "             \"numeric\"            \"character\"            \"character\" \n",
            "Regional Node Examined  Reginol Node Positive        Survival Months \n",
            "             \"numeric\"              \"numeric\"              \"numeric\" \n",
            "                Status \n",
            "           \"character\" \n"
          ]
        }
      ]
    },
    {
      "cell_type": "code",
      "source": [
        "# Summary statistics for numerical columns\n",
        "numeric_summary <- summary(select_if(data, is.numeric))\n",
        "print(numeric_summary)"
      ],
      "metadata": {
        "colab": {
          "base_uri": "https://localhost:8080/"
        },
        "id": "w__79OPYFLAk",
        "outputId": "0dd8a333-ff27-4010-8466-bc5c2cfa4fa5"
      },
      "execution_count": null,
      "outputs": [
        {
          "output_type": "stream",
          "name": "stdout",
          "text": [
            "      Age          Tumor Size     Regional Node Examined Reginol Node Positive\n",
            " Min.   :30.00   Min.   :  1.00   Min.   : 1.00          Min.   : 1.000       \n",
            " 1st Qu.:47.00   1st Qu.: 16.00   1st Qu.: 9.00          1st Qu.: 1.000       \n",
            " Median :54.00   Median : 25.00   Median :14.00          Median : 2.000       \n",
            " Mean   :53.97   Mean   : 30.47   Mean   :14.36          Mean   : 4.158       \n",
            " 3rd Qu.:61.00   3rd Qu.: 38.00   3rd Qu.:19.00          3rd Qu.: 5.000       \n",
            " Max.   :69.00   Max.   :140.00   Max.   :61.00          Max.   :46.000       \n",
            " Survival Months\n",
            " Min.   :  1.0  \n",
            " 1st Qu.: 56.0  \n",
            " Median : 73.0  \n",
            " Mean   : 71.3  \n",
            " 3rd Qu.: 90.0  \n",
            " Max.   :107.0  \n"
          ]
        }
      ]
    },
    {
      "cell_type": "code",
      "source": [
        "# Check for missing values in the original data\n",
        "print(sapply(data, function(x) sum(is.na(x))))"
      ],
      "metadata": {
        "colab": {
          "base_uri": "https://localhost:8080/"
        },
        "id": "Ua_hXBldNqo_",
        "outputId": "d2d1b7b9-831c-46e3-edd5-20d0efe9e498"
      },
      "execution_count": null,
      "outputs": [
        {
          "output_type": "stream",
          "name": "stdout",
          "text": [
            "                   Age                   Race         Marital Status \n",
            "                     0                      0                      0 \n",
            "               T Stage                N Stage              6th Stage \n",
            "                     0                      0                      0 \n",
            "         differentiate                  Grade                A Stage \n",
            "                     0                      0                      0 \n",
            "            Tumor Size        Estrogen Status    Progesterone Status \n",
            "                     0                      0                      0 \n",
            "Regional Node Examined  Reginol Node Positive        Survival Months \n",
            "                     0                      0                      0 \n",
            "                Status \n",
            "                     0 \n"
          ]
        }
      ]
    },
    {
      "cell_type": "code",
      "source": [
        "# Percentiles for numerical columns\n",
        "numeric_percentiles <- data %>%\n",
        "  select_if(is.numeric) %>%\n",
        "  summarise_all(list(\n",
        "    Q1 = ~quantile(., probs = 0.25, na.rm = TRUE),\n",
        "    Median = ~quantile(., probs = 0.5, na.rm = TRUE),\n",
        "    Q3 = ~quantile(., probs = 0.75, na.rm = TRUE)\n",
        "  ))\n",
        "print(numeric_percentiles)"
      ],
      "metadata": {
        "colab": {
          "base_uri": "https://localhost:8080/"
        },
        "id": "T-eTma6zFP9U",
        "outputId": "c5d049ec-c063-499e-9387-2737afc23988"
      },
      "execution_count": null,
      "outputs": [
        {
          "output_type": "stream",
          "name": "stdout",
          "text": [
            "\u001b[90m# A tibble: 1 × 15\u001b[39m\n",
            "  Age_Q1 `Tumor Size_Q1` `Regional Node Examined_Q1` `Reginol Node Positive_Q1`\n",
            "   \u001b[3m\u001b[90m<dbl>\u001b[39m\u001b[23m           \u001b[3m\u001b[90m<dbl>\u001b[39m\u001b[23m                       \u001b[3m\u001b[90m<dbl>\u001b[39m\u001b[23m                      \u001b[3m\u001b[90m<dbl>\u001b[39m\u001b[23m\n",
            "\u001b[90m1\u001b[39m     47              16                           9                          1\n",
            "\u001b[90m# ℹ 11 more variables: `Survival Months_Q1` <dbl>, Age_Median <dbl>,\u001b[39m\n",
            "\u001b[90m#   `Tumor Size_Median` <dbl>, `Regional Node Examined_Median` <dbl>,\u001b[39m\n",
            "\u001b[90m#   `Reginol Node Positive_Median` <dbl>, `Survival Months_Median` <dbl>,\u001b[39m\n",
            "\u001b[90m#   Age_Q3 <dbl>, `Tumor Size_Q3` <dbl>, `Regional Node Examined_Q3` <dbl>,\u001b[39m\n",
            "\u001b[90m#   `Reginol Node Positive_Q3` <dbl>, `Survival Months_Q3` <dbl>\u001b[39m\n"
          ]
        }
      ]
    },
    {
      "cell_type": "markdown",
      "source": [
        "# Data preprocessing"
      ],
      "metadata": {
        "id": "yUSGrrTKFsGV"
      }
    },
    {
      "cell_type": "code",
      "source": [
        "#Removing the race column from the dataset as it can be misleading\n",
        "data <- select(data, -Race)"
      ],
      "metadata": {
        "id": "YkdnFxBrEYDi"
      },
      "execution_count": null,
      "outputs": []
    },
    {
      "cell_type": "code",
      "source": [
        "head(data)"
      ],
      "metadata": {
        "colab": {
          "base_uri": "https://localhost:8080/",
          "height": 445
        },
        "id": "3-RvdAk_E4_q",
        "outputId": "aab73918-e2d3-4b67-df3c-b066e3e9d652"
      },
      "execution_count": null,
      "outputs": [
        {
          "output_type": "display_data",
          "data": {
            "text/html": [
              "<table class=\"dataframe\">\n",
              "<caption>A tibble: 6 × 15</caption>\n",
              "<thead>\n",
              "\t<tr><th scope=col>Age</th><th scope=col>Marital Status</th><th scope=col>T Stage</th><th scope=col>N Stage</th><th scope=col>6th Stage</th><th scope=col>differentiate</th><th scope=col>Grade</th><th scope=col>A Stage</th><th scope=col>Tumor Size</th><th scope=col>Estrogen Status</th><th scope=col>Progesterone Status</th><th scope=col>Regional Node Examined</th><th scope=col>Reginol Node Positive</th><th scope=col>Survival Months</th><th scope=col>Status</th></tr>\n",
              "\t<tr><th scope=col>&lt;dbl&gt;</th><th scope=col>&lt;chr&gt;</th><th scope=col>&lt;chr&gt;</th><th scope=col>&lt;chr&gt;</th><th scope=col>&lt;chr&gt;</th><th scope=col>&lt;chr&gt;</th><th scope=col>&lt;chr&gt;</th><th scope=col>&lt;chr&gt;</th><th scope=col>&lt;dbl&gt;</th><th scope=col>&lt;chr&gt;</th><th scope=col>&lt;chr&gt;</th><th scope=col>&lt;dbl&gt;</th><th scope=col>&lt;dbl&gt;</th><th scope=col>&lt;dbl&gt;</th><th scope=col>&lt;chr&gt;</th></tr>\n",
              "</thead>\n",
              "<tbody>\n",
              "\t<tr><td>68</td><td>Married </td><td>T1</td><td>N1</td><td>IIA </td><td>Poorly differentiated    </td><td>3</td><td>Regional</td><td> 4</td><td>Positive</td><td>Positive</td><td>24</td><td>1</td><td>60</td><td>Alive</td></tr>\n",
              "\t<tr><td>50</td><td>Married </td><td>T2</td><td>N2</td><td>IIIA</td><td>Moderately differentiated</td><td>2</td><td>Regional</td><td>35</td><td>Positive</td><td>Positive</td><td>14</td><td>5</td><td>62</td><td>Alive</td></tr>\n",
              "\t<tr><td>58</td><td>Divorced</td><td>T3</td><td>N3</td><td>IIIC</td><td>Moderately differentiated</td><td>2</td><td>Regional</td><td>63</td><td>Positive</td><td>Positive</td><td>14</td><td>7</td><td>75</td><td>Alive</td></tr>\n",
              "\t<tr><td>58</td><td>Married </td><td>T1</td><td>N1</td><td>IIA </td><td>Poorly differentiated    </td><td>3</td><td>Regional</td><td>18</td><td>Positive</td><td>Positive</td><td> 2</td><td>1</td><td>84</td><td>Alive</td></tr>\n",
              "\t<tr><td>47</td><td>Married </td><td>T2</td><td>N1</td><td>IIB </td><td>Poorly differentiated    </td><td>3</td><td>Regional</td><td>41</td><td>Positive</td><td>Positive</td><td> 3</td><td>1</td><td>50</td><td>Alive</td></tr>\n",
              "\t<tr><td>51</td><td>Single  </td><td>T1</td><td>N1</td><td>IIA </td><td>Moderately differentiated</td><td>2</td><td>Regional</td><td>20</td><td>Positive</td><td>Positive</td><td>18</td><td>2</td><td>89</td><td>Alive</td></tr>\n",
              "</tbody>\n",
              "</table>\n"
            ],
            "text/markdown": "\nA tibble: 6 × 15\n\n| Age &lt;dbl&gt; | Marital Status &lt;chr&gt; | T Stage &lt;chr&gt; | N Stage &lt;chr&gt; | 6th Stage &lt;chr&gt; | differentiate &lt;chr&gt; | Grade &lt;chr&gt; | A Stage &lt;chr&gt; | Tumor Size &lt;dbl&gt; | Estrogen Status &lt;chr&gt; | Progesterone Status &lt;chr&gt; | Regional Node Examined &lt;dbl&gt; | Reginol Node Positive &lt;dbl&gt; | Survival Months &lt;dbl&gt; | Status &lt;chr&gt; |\n|---|---|---|---|---|---|---|---|---|---|---|---|---|---|---|\n| 68 | Married  | T1 | N1 | IIA  | Poorly differentiated     | 3 | Regional |  4 | Positive | Positive | 24 | 1 | 60 | Alive |\n| 50 | Married  | T2 | N2 | IIIA | Moderately differentiated | 2 | Regional | 35 | Positive | Positive | 14 | 5 | 62 | Alive |\n| 58 | Divorced | T3 | N3 | IIIC | Moderately differentiated | 2 | Regional | 63 | Positive | Positive | 14 | 7 | 75 | Alive |\n| 58 | Married  | T1 | N1 | IIA  | Poorly differentiated     | 3 | Regional | 18 | Positive | Positive |  2 | 1 | 84 | Alive |\n| 47 | Married  | T2 | N1 | IIB  | Poorly differentiated     | 3 | Regional | 41 | Positive | Positive |  3 | 1 | 50 | Alive |\n| 51 | Single   | T1 | N1 | IIA  | Moderately differentiated | 2 | Regional | 20 | Positive | Positive | 18 | 2 | 89 | Alive |\n\n",
            "text/latex": "A tibble: 6 × 15\n\\begin{tabular}{lllllllllllllll}\n Age & Marital Status & T Stage & N Stage & 6th Stage & differentiate & Grade & A Stage & Tumor Size & Estrogen Status & Progesterone Status & Regional Node Examined & Reginol Node Positive & Survival Months & Status\\\\\n <dbl> & <chr> & <chr> & <chr> & <chr> & <chr> & <chr> & <chr> & <dbl> & <chr> & <chr> & <dbl> & <dbl> & <dbl> & <chr>\\\\\n\\hline\n\t 68 & Married  & T1 & N1 & IIA  & Poorly differentiated     & 3 & Regional &  4 & Positive & Positive & 24 & 1 & 60 & Alive\\\\\n\t 50 & Married  & T2 & N2 & IIIA & Moderately differentiated & 2 & Regional & 35 & Positive & Positive & 14 & 5 & 62 & Alive\\\\\n\t 58 & Divorced & T3 & N3 & IIIC & Moderately differentiated & 2 & Regional & 63 & Positive & Positive & 14 & 7 & 75 & Alive\\\\\n\t 58 & Married  & T1 & N1 & IIA  & Poorly differentiated     & 3 & Regional & 18 & Positive & Positive &  2 & 1 & 84 & Alive\\\\\n\t 47 & Married  & T2 & N1 & IIB  & Poorly differentiated     & 3 & Regional & 41 & Positive & Positive &  3 & 1 & 50 & Alive\\\\\n\t 51 & Single   & T1 & N1 & IIA  & Moderately differentiated & 2 & Regional & 20 & Positive & Positive & 18 & 2 & 89 & Alive\\\\\n\\end{tabular}\n",
            "text/plain": [
              "  Age Marital Status T Stage N Stage 6th Stage differentiate             Grade\n",
              "1 68  Married        T1      N1      IIA       Poorly differentiated     3    \n",
              "2 50  Married        T2      N2      IIIA      Moderately differentiated 2    \n",
              "3 58  Divorced       T3      N3      IIIC      Moderately differentiated 2    \n",
              "4 58  Married        T1      N1      IIA       Poorly differentiated     3    \n",
              "5 47  Married        T2      N1      IIB       Poorly differentiated     3    \n",
              "6 51  Single         T1      N1      IIA       Moderately differentiated 2    \n",
              "  A Stage  Tumor Size Estrogen Status Progesterone Status\n",
              "1 Regional  4         Positive        Positive           \n",
              "2 Regional 35         Positive        Positive           \n",
              "3 Regional 63         Positive        Positive           \n",
              "4 Regional 18         Positive        Positive           \n",
              "5 Regional 41         Positive        Positive           \n",
              "6 Regional 20         Positive        Positive           \n",
              "  Regional Node Examined Reginol Node Positive Survival Months Status\n",
              "1 24                     1                     60              Alive \n",
              "2 14                     5                     62              Alive \n",
              "3 14                     7                     75              Alive \n",
              "4  2                     1                     84              Alive \n",
              "5  3                     1                     50              Alive \n",
              "6 18                     2                     89              Alive "
            ]
          },
          "metadata": {}
        }
      ]
    },
    {
      "cell_type": "markdown",
      "source": [
        "##Scaling the data\n",
        "The numericla data is sclaed first as the cetegorical columns dont have much variance as they consist of 3-4 classes and scaling is not needed for them."
      ],
      "metadata": {
        "id": "DhLLf-S00cGa"
      }
    },
    {
      "cell_type": "code",
      "source": [
        "# Function to scale only numeric columns\n",
        "scale_numeric <- function(df) {\n",
        "  df %>%\n",
        "    mutate(across(where(is.numeric), scale))\n",
        "}\n",
        "\n",
        "# Appling the function to the dataframe\n",
        "scaled_data <- scale_numeric(data)\n",
        "\n",
        "head(scaled_data)"
      ],
      "metadata": {
        "colab": {
          "base_uri": "https://localhost:8080/",
          "height": 445
        },
        "id": "qwGUZ4Z8LGAv",
        "outputId": "4df93d8a-6aec-4a6a-9314-cbc31327c5d4"
      },
      "execution_count": null,
      "outputs": [
        {
          "output_type": "display_data",
          "data": {
            "text/html": [
              "<table class=\"dataframe\">\n",
              "<caption>A tibble: 6 × 15</caption>\n",
              "<thead>\n",
              "\t<tr><th scope=col>Age</th><th scope=col>Marital Status</th><th scope=col>T Stage</th><th scope=col>N Stage</th><th scope=col>6th Stage</th><th scope=col>differentiate</th><th scope=col>Grade</th><th scope=col>A Stage</th><th scope=col>Tumor Size</th><th scope=col>Estrogen Status</th><th scope=col>Progesterone Status</th><th scope=col>Regional Node Examined</th><th scope=col>Reginol Node Positive</th><th scope=col>Survival Months</th><th scope=col>Status</th></tr>\n",
              "\t<tr><th scope=col>&lt;dbl[,1]&gt;</th><th scope=col>&lt;chr&gt;</th><th scope=col>&lt;chr&gt;</th><th scope=col>&lt;chr&gt;</th><th scope=col>&lt;chr&gt;</th><th scope=col>&lt;chr&gt;</th><th scope=col>&lt;chr&gt;</th><th scope=col>&lt;chr&gt;</th><th scope=col>&lt;dbl[,1]&gt;</th><th scope=col>&lt;chr&gt;</th><th scope=col>&lt;chr&gt;</th><th scope=col>&lt;dbl[,1]&gt;</th><th scope=col>&lt;dbl[,1]&gt;</th><th scope=col>&lt;dbl[,1]&gt;</th><th scope=col>&lt;chr&gt;</th></tr>\n",
              "</thead>\n",
              "<tbody>\n",
              "\t<tr><td> 1.5650589</td><td>Married </td><td>T1</td><td>N1</td><td>IIA </td><td>Poorly differentiated    </td><td>3</td><td>Regional</td><td>-1.2535056</td><td>Positive</td><td>Positive</td><td> 1.1905284</td><td>-0.6180949</td><td>-0.4928995</td><td>Alive</td></tr>\n",
              "\t<tr><td>-0.4431672</td><td>Married </td><td>T2</td><td>N2</td><td>IIIA</td><td>Moderately differentiated</td><td>2</td><td>Regional</td><td> 0.2143185</td><td>Positive</td><td>Positive</td><td>-0.0440891</td><td> 0.1647864</td><td>-0.4056450</td><td>Alive</td></tr>\n",
              "\t<tr><td> 0.4493777</td><td>Divorced</td><td>T3</td><td>N3</td><td>IIIC</td><td>Moderately differentiated</td><td>2</td><td>Regional</td><td> 1.5400952</td><td>Positive</td><td>Positive</td><td>-0.0440891</td><td> 0.5562271</td><td> 0.1615099</td><td>Alive</td></tr>\n",
              "\t<tr><td> 0.4493777</td><td>Married </td><td>T1</td><td>N1</td><td>IIA </td><td>Poorly differentiated    </td><td>3</td><td>Regional</td><td>-0.5906173</td><td>Positive</td><td>Positive</td><td>-1.5256301</td><td>-0.6180949</td><td> 0.5541556</td><td>Alive</td></tr>\n",
              "\t<tr><td>-0.7778715</td><td>Married </td><td>T2</td><td>N1</td><td>IIB </td><td>Poorly differentiated    </td><td>3</td><td>Regional</td><td> 0.4984135</td><td>Positive</td><td>Positive</td><td>-1.4021683</td><td>-0.6180949</td><td>-0.9291725</td><td>Alive</td></tr>\n",
              "\t<tr><td>-0.3315991</td><td>Single  </td><td>T1</td><td>N1</td><td>IIA </td><td>Moderately differentiated</td><td>2</td><td>Regional</td><td>-0.4959190</td><td>Positive</td><td>Positive</td><td> 0.4497579</td><td>-0.4223746</td><td> 0.7722920</td><td>Alive</td></tr>\n",
              "</tbody>\n",
              "</table>\n"
            ],
            "text/markdown": "\nA tibble: 6 × 15\n\n| Age &lt;dbl[,1]&gt; | Marital Status &lt;chr&gt; | T Stage &lt;chr&gt; | N Stage &lt;chr&gt; | 6th Stage &lt;chr&gt; | differentiate &lt;chr&gt; | Grade &lt;chr&gt; | A Stage &lt;chr&gt; | Tumor Size &lt;dbl[,1]&gt; | Estrogen Status &lt;chr&gt; | Progesterone Status &lt;chr&gt; | Regional Node Examined &lt;dbl[,1]&gt; | Reginol Node Positive &lt;dbl[,1]&gt; | Survival Months &lt;dbl[,1]&gt; | Status &lt;chr&gt; |\n|---|---|---|---|---|---|---|---|---|---|---|---|---|---|---|\n|  1.5650589 | Married  | T1 | N1 | IIA  | Poorly differentiated     | 3 | Regional | -1.2535056 | Positive | Positive |  1.1905284 | -0.6180949 | -0.4928995 | Alive |\n| -0.4431672 | Married  | T2 | N2 | IIIA | Moderately differentiated | 2 | Regional |  0.2143185 | Positive | Positive | -0.0440891 |  0.1647864 | -0.4056450 | Alive |\n|  0.4493777 | Divorced | T3 | N3 | IIIC | Moderately differentiated | 2 | Regional |  1.5400952 | Positive | Positive | -0.0440891 |  0.5562271 |  0.1615099 | Alive |\n|  0.4493777 | Married  | T1 | N1 | IIA  | Poorly differentiated     | 3 | Regional | -0.5906173 | Positive | Positive | -1.5256301 | -0.6180949 |  0.5541556 | Alive |\n| -0.7778715 | Married  | T2 | N1 | IIB  | Poorly differentiated     | 3 | Regional |  0.4984135 | Positive | Positive | -1.4021683 | -0.6180949 | -0.9291725 | Alive |\n| -0.3315991 | Single   | T1 | N1 | IIA  | Moderately differentiated | 2 | Regional | -0.4959190 | Positive | Positive |  0.4497579 | -0.4223746 |  0.7722920 | Alive |\n\n",
            "text/latex": "A tibble: 6 × 15\n\\begin{tabular}{lllllllllllllll}\n Age & Marital Status & T Stage & N Stage & 6th Stage & differentiate & Grade & A Stage & Tumor Size & Estrogen Status & Progesterone Status & Regional Node Examined & Reginol Node Positive & Survival Months & Status\\\\\n <dbl{[},1{]}> & <chr> & <chr> & <chr> & <chr> & <chr> & <chr> & <chr> & <dbl{[},1{]}> & <chr> & <chr> & <dbl{[},1{]}> & <dbl{[},1{]}> & <dbl{[},1{]}> & <chr>\\\\\n\\hline\n\t  1.5650589 & Married  & T1 & N1 & IIA  & Poorly differentiated     & 3 & Regional & -1.2535056 & Positive & Positive &  1.1905284 & -0.6180949 & -0.4928995 & Alive\\\\\n\t -0.4431672 & Married  & T2 & N2 & IIIA & Moderately differentiated & 2 & Regional &  0.2143185 & Positive & Positive & -0.0440891 &  0.1647864 & -0.4056450 & Alive\\\\\n\t  0.4493777 & Divorced & T3 & N3 & IIIC & Moderately differentiated & 2 & Regional &  1.5400952 & Positive & Positive & -0.0440891 &  0.5562271 &  0.1615099 & Alive\\\\\n\t  0.4493777 & Married  & T1 & N1 & IIA  & Poorly differentiated     & 3 & Regional & -0.5906173 & Positive & Positive & -1.5256301 & -0.6180949 &  0.5541556 & Alive\\\\\n\t -0.7778715 & Married  & T2 & N1 & IIB  & Poorly differentiated     & 3 & Regional &  0.4984135 & Positive & Positive & -1.4021683 & -0.6180949 & -0.9291725 & Alive\\\\\n\t -0.3315991 & Single   & T1 & N1 & IIA  & Moderately differentiated & 2 & Regional & -0.4959190 & Positive & Positive &  0.4497579 & -0.4223746 &  0.7722920 & Alive\\\\\n\\end{tabular}\n",
            "text/plain": [
              "  Age        Marital Status T Stage N Stage 6th Stage differentiate            \n",
              "1  1.5650589 Married        T1      N1      IIA       Poorly differentiated    \n",
              "2 -0.4431672 Married        T2      N2      IIIA      Moderately differentiated\n",
              "3  0.4493777 Divorced       T3      N3      IIIC      Moderately differentiated\n",
              "4  0.4493777 Married        T1      N1      IIA       Poorly differentiated    \n",
              "5 -0.7778715 Married        T2      N1      IIB       Poorly differentiated    \n",
              "6 -0.3315991 Single         T1      N1      IIA       Moderately differentiated\n",
              "  Grade A Stage  Tumor Size Estrogen Status Progesterone Status\n",
              "1 3     Regional -1.2535056 Positive        Positive           \n",
              "2 2     Regional  0.2143185 Positive        Positive           \n",
              "3 2     Regional  1.5400952 Positive        Positive           \n",
              "4 3     Regional -0.5906173 Positive        Positive           \n",
              "5 3     Regional  0.4984135 Positive        Positive           \n",
              "6 2     Regional -0.4959190 Positive        Positive           \n",
              "  Regional Node Examined Reginol Node Positive Survival Months Status\n",
              "1  1.1905284             -0.6180949            -0.4928995      Alive \n",
              "2 -0.0440891              0.1647864            -0.4056450      Alive \n",
              "3 -0.0440891              0.5562271             0.1615099      Alive \n",
              "4 -1.5256301             -0.6180949             0.5541556      Alive \n",
              "5 -1.4021683             -0.6180949            -0.9291725      Alive \n",
              "6  0.4497579             -0.4223746             0.7722920      Alive "
            ]
          },
          "metadata": {}
        }
      ]
    },
    {
      "cell_type": "markdown",
      "source": [
        "##Removing outliers\n",
        "The method of choice will be IQR Method as it is a robust method to handle all kinds of distributions."
      ],
      "metadata": {
        "id": "LnWpA0EzHKRN"
      }
    },
    {
      "cell_type": "code",
      "source": [
        "# Function to remove outliers based on IQR without removing rows\n",
        "remove_outliers_iqr <- function(df) {\n",
        "  num_cols <- sapply(df, is.numeric)\n",
        "  df[num_cols] <- lapply(df[num_cols], function(x) {\n",
        "    Q1 <- quantile(x, 0.25, na.rm = TRUE)\n",
        "    Q3 <- quantile(x, 0.75, na.rm = TRUE)\n",
        "    IQR <- Q3 - Q1\n",
        "    lower_bound <- Q1 - 1.5 * IQR\n",
        "    upper_bound <- Q3 + 1.5 * IQR\n",
        "    x[x < lower_bound | x > upper_bound] <- NA\n",
        "    return(x)\n",
        "  })\n",
        "  return(df)\n",
        "}\n",
        "\n",
        "# Apply IQR method to remove outliers without removing rows\n",
        "data_no_outliers <- remove_outliers_iqr(scaled_data)"
      ],
      "metadata": {
        "id": "dNegyo2EIdiD"
      },
      "execution_count": null,
      "outputs": []
    },
    {
      "cell_type": "code",
      "source": [
        "head(data_no_outliers)"
      ],
      "metadata": {
        "colab": {
          "base_uri": "https://localhost:8080/",
          "height": 445
        },
        "id": "g_3MJRQPxaLp",
        "outputId": "381c84bc-d4c1-4a3f-ed47-3549100d0c34"
      },
      "execution_count": null,
      "outputs": [
        {
          "output_type": "display_data",
          "data": {
            "text/html": [
              "<table class=\"dataframe\">\n",
              "<caption>A tibble: 6 × 15</caption>\n",
              "<thead>\n",
              "\t<tr><th scope=col>Age</th><th scope=col>Marital Status</th><th scope=col>T Stage</th><th scope=col>N Stage</th><th scope=col>6th Stage</th><th scope=col>differentiate</th><th scope=col>Grade</th><th scope=col>A Stage</th><th scope=col>Tumor Size</th><th scope=col>Estrogen Status</th><th scope=col>Progesterone Status</th><th scope=col>Regional Node Examined</th><th scope=col>Reginol Node Positive</th><th scope=col>Survival Months</th><th scope=col>Status</th></tr>\n",
              "\t<tr><th scope=col>&lt;dbl[,1]&gt;</th><th scope=col>&lt;chr&gt;</th><th scope=col>&lt;chr&gt;</th><th scope=col>&lt;chr&gt;</th><th scope=col>&lt;chr&gt;</th><th scope=col>&lt;chr&gt;</th><th scope=col>&lt;chr&gt;</th><th scope=col>&lt;chr&gt;</th><th scope=col>&lt;dbl[,1]&gt;</th><th scope=col>&lt;chr&gt;</th><th scope=col>&lt;chr&gt;</th><th scope=col>&lt;dbl[,1]&gt;</th><th scope=col>&lt;dbl[,1]&gt;</th><th scope=col>&lt;dbl[,1]&gt;</th><th scope=col>&lt;chr&gt;</th></tr>\n",
              "</thead>\n",
              "<tbody>\n",
              "\t<tr><td> 1.5650589</td><td>Married </td><td>T1</td><td>N1</td><td>IIA </td><td>Poorly differentiated    </td><td>3</td><td>Regional</td><td>-1.2535056</td><td>Positive</td><td>Positive</td><td> 1.1905284</td><td>-0.6180949</td><td>-0.4928995</td><td>Alive</td></tr>\n",
              "\t<tr><td>-0.4431672</td><td>Married </td><td>T2</td><td>N2</td><td>IIIA</td><td>Moderately differentiated</td><td>2</td><td>Regional</td><td> 0.2143185</td><td>Positive</td><td>Positive</td><td>-0.0440891</td><td> 0.1647864</td><td>-0.4056450</td><td>Alive</td></tr>\n",
              "\t<tr><td> 0.4493777</td><td>Divorced</td><td>T3</td><td>N3</td><td>IIIC</td><td>Moderately differentiated</td><td>2</td><td>Regional</td><td> 1.5400952</td><td>Positive</td><td>Positive</td><td>-0.0440891</td><td> 0.5562271</td><td> 0.1615099</td><td>Alive</td></tr>\n",
              "\t<tr><td> 0.4493777</td><td>Married </td><td>T1</td><td>N1</td><td>IIA </td><td>Poorly differentiated    </td><td>3</td><td>Regional</td><td>-0.5906173</td><td>Positive</td><td>Positive</td><td>-1.5256301</td><td>-0.6180949</td><td> 0.5541556</td><td>Alive</td></tr>\n",
              "\t<tr><td>-0.7778715</td><td>Married </td><td>T2</td><td>N1</td><td>IIB </td><td>Poorly differentiated    </td><td>3</td><td>Regional</td><td> 0.4984135</td><td>Positive</td><td>Positive</td><td>-1.4021683</td><td>-0.6180949</td><td>-0.9291725</td><td>Alive</td></tr>\n",
              "\t<tr><td>-0.3315991</td><td>Single  </td><td>T1</td><td>N1</td><td>IIA </td><td>Moderately differentiated</td><td>2</td><td>Regional</td><td>-0.4959190</td><td>Positive</td><td>Positive</td><td> 0.4497579</td><td>-0.4223746</td><td> 0.7722920</td><td>Alive</td></tr>\n",
              "</tbody>\n",
              "</table>\n"
            ],
            "text/markdown": "\nA tibble: 6 × 15\n\n| Age &lt;dbl[,1]&gt; | Marital Status &lt;chr&gt; | T Stage &lt;chr&gt; | N Stage &lt;chr&gt; | 6th Stage &lt;chr&gt; | differentiate &lt;chr&gt; | Grade &lt;chr&gt; | A Stage &lt;chr&gt; | Tumor Size &lt;dbl[,1]&gt; | Estrogen Status &lt;chr&gt; | Progesterone Status &lt;chr&gt; | Regional Node Examined &lt;dbl[,1]&gt; | Reginol Node Positive &lt;dbl[,1]&gt; | Survival Months &lt;dbl[,1]&gt; | Status &lt;chr&gt; |\n|---|---|---|---|---|---|---|---|---|---|---|---|---|---|---|\n|  1.5650589 | Married  | T1 | N1 | IIA  | Poorly differentiated     | 3 | Regional | -1.2535056 | Positive | Positive |  1.1905284 | -0.6180949 | -0.4928995 | Alive |\n| -0.4431672 | Married  | T2 | N2 | IIIA | Moderately differentiated | 2 | Regional |  0.2143185 | Positive | Positive | -0.0440891 |  0.1647864 | -0.4056450 | Alive |\n|  0.4493777 | Divorced | T3 | N3 | IIIC | Moderately differentiated | 2 | Regional |  1.5400952 | Positive | Positive | -0.0440891 |  0.5562271 |  0.1615099 | Alive |\n|  0.4493777 | Married  | T1 | N1 | IIA  | Poorly differentiated     | 3 | Regional | -0.5906173 | Positive | Positive | -1.5256301 | -0.6180949 |  0.5541556 | Alive |\n| -0.7778715 | Married  | T2 | N1 | IIB  | Poorly differentiated     | 3 | Regional |  0.4984135 | Positive | Positive | -1.4021683 | -0.6180949 | -0.9291725 | Alive |\n| -0.3315991 | Single   | T1 | N1 | IIA  | Moderately differentiated | 2 | Regional | -0.4959190 | Positive | Positive |  0.4497579 | -0.4223746 |  0.7722920 | Alive |\n\n",
            "text/latex": "A tibble: 6 × 15\n\\begin{tabular}{lllllllllllllll}\n Age & Marital Status & T Stage & N Stage & 6th Stage & differentiate & Grade & A Stage & Tumor Size & Estrogen Status & Progesterone Status & Regional Node Examined & Reginol Node Positive & Survival Months & Status\\\\\n <dbl{[},1{]}> & <chr> & <chr> & <chr> & <chr> & <chr> & <chr> & <chr> & <dbl{[},1{]}> & <chr> & <chr> & <dbl{[},1{]}> & <dbl{[},1{]}> & <dbl{[},1{]}> & <chr>\\\\\n\\hline\n\t  1.5650589 & Married  & T1 & N1 & IIA  & Poorly differentiated     & 3 & Regional & -1.2535056 & Positive & Positive &  1.1905284 & -0.6180949 & -0.4928995 & Alive\\\\\n\t -0.4431672 & Married  & T2 & N2 & IIIA & Moderately differentiated & 2 & Regional &  0.2143185 & Positive & Positive & -0.0440891 &  0.1647864 & -0.4056450 & Alive\\\\\n\t  0.4493777 & Divorced & T3 & N3 & IIIC & Moderately differentiated & 2 & Regional &  1.5400952 & Positive & Positive & -0.0440891 &  0.5562271 &  0.1615099 & Alive\\\\\n\t  0.4493777 & Married  & T1 & N1 & IIA  & Poorly differentiated     & 3 & Regional & -0.5906173 & Positive & Positive & -1.5256301 & -0.6180949 &  0.5541556 & Alive\\\\\n\t -0.7778715 & Married  & T2 & N1 & IIB  & Poorly differentiated     & 3 & Regional &  0.4984135 & Positive & Positive & -1.4021683 & -0.6180949 & -0.9291725 & Alive\\\\\n\t -0.3315991 & Single   & T1 & N1 & IIA  & Moderately differentiated & 2 & Regional & -0.4959190 & Positive & Positive &  0.4497579 & -0.4223746 &  0.7722920 & Alive\\\\\n\\end{tabular}\n",
            "text/plain": [
              "  Age        Marital Status T Stage N Stage 6th Stage differentiate            \n",
              "1  1.5650589 Married        T1      N1      IIA       Poorly differentiated    \n",
              "2 -0.4431672 Married        T2      N2      IIIA      Moderately differentiated\n",
              "3  0.4493777 Divorced       T3      N3      IIIC      Moderately differentiated\n",
              "4  0.4493777 Married        T1      N1      IIA       Poorly differentiated    \n",
              "5 -0.7778715 Married        T2      N1      IIB       Poorly differentiated    \n",
              "6 -0.3315991 Single         T1      N1      IIA       Moderately differentiated\n",
              "  Grade A Stage  Tumor Size Estrogen Status Progesterone Status\n",
              "1 3     Regional -1.2535056 Positive        Positive           \n",
              "2 2     Regional  0.2143185 Positive        Positive           \n",
              "3 2     Regional  1.5400952 Positive        Positive           \n",
              "4 3     Regional -0.5906173 Positive        Positive           \n",
              "5 3     Regional  0.4984135 Positive        Positive           \n",
              "6 2     Regional -0.4959190 Positive        Positive           \n",
              "  Regional Node Examined Reginol Node Positive Survival Months Status\n",
              "1  1.1905284             -0.6180949            -0.4928995      Alive \n",
              "2 -0.0440891              0.1647864            -0.4056450      Alive \n",
              "3 -0.0440891              0.5562271             0.1615099      Alive \n",
              "4 -1.5256301             -0.6180949             0.5541556      Alive \n",
              "5 -1.4021683             -0.6180949            -0.9291725      Alive \n",
              "6  0.4497579             -0.4223746             0.7722920      Alive "
            ]
          },
          "metadata": {}
        }
      ]
    },
    {
      "cell_type": "code",
      "source": [
        "# Check for missing values in the original data\n",
        "print(sapply(data_no_outliers, function(x) sum(is.na(x))))"
      ],
      "metadata": {
        "colab": {
          "base_uri": "https://localhost:8080/"
        },
        "id": "v1-faaxGxe9g",
        "outputId": "728f9739-4cab-4747-9bf1-a42f1db75f3e"
      },
      "execution_count": null,
      "outputs": [
        {
          "output_type": "stream",
          "name": "stdout",
          "text": [
            "                   Age         Marital Status                T Stage \n",
            "                     0                      0                      0 \n",
            "               N Stage              6th Stage          differentiate \n",
            "                     0                      0                      0 \n",
            "                 Grade                A Stage             Tumor Size \n",
            "                     0                      0                    222 \n",
            "       Estrogen Status    Progesterone Status Regional Node Examined \n",
            "                     0                      0                     72 \n",
            " Reginol Node Positive        Survival Months                 Status \n",
            "                   400                     18                      0 \n"
          ]
        }
      ]
    },
    {
      "cell_type": "markdown",
      "source": [
        "Since we have little data we will be replacing the missing values with the mean"
      ],
      "metadata": {
        "id": "TIwufUWz3QPU"
      }
    },
    {
      "cell_type": "code",
      "source": [
        "# Function to replace NA with median\n",
        "replace_na_with_median <- function(df) {\n",
        "  df %>%\n",
        "    mutate(across(where(is.numeric), ~ ifelse(is.na(.), mean(., na.rm = TRUE), .)))\n",
        "}\n",
        "\n",
        "# Apply the function to the dataframe\n",
        "imputed_df <- replace_na_with_median(data_no_outliers)\n"
      ],
      "metadata": {
        "id": "Gk7P88WW1Esa"
      },
      "execution_count": null,
      "outputs": []
    },
    {
      "cell_type": "code",
      "source": [
        "head(imputed_df)"
      ],
      "metadata": {
        "colab": {
          "base_uri": "https://localhost:8080/",
          "height": 445
        },
        "id": "b9i7R9Zz2x2U",
        "outputId": "655638bf-6cf0-492a-c083-d4c3e55f19e0"
      },
      "execution_count": null,
      "outputs": [
        {
          "output_type": "display_data",
          "data": {
            "text/html": [
              "<table class=\"dataframe\">\n",
              "<caption>A tibble: 6 × 15</caption>\n",
              "<thead>\n",
              "\t<tr><th scope=col>Age</th><th scope=col>Marital Status</th><th scope=col>T Stage</th><th scope=col>N Stage</th><th scope=col>6th Stage</th><th scope=col>differentiate</th><th scope=col>Grade</th><th scope=col>A Stage</th><th scope=col>Tumor Size</th><th scope=col>Estrogen Status</th><th scope=col>Progesterone Status</th><th scope=col>Regional Node Examined</th><th scope=col>Reginol Node Positive</th><th scope=col>Survival Months</th><th scope=col>Status</th></tr>\n",
              "\t<tr><th scope=col>&lt;dbl[,1]&gt;</th><th scope=col>&lt;chr&gt;</th><th scope=col>&lt;chr&gt;</th><th scope=col>&lt;chr&gt;</th><th scope=col>&lt;chr&gt;</th><th scope=col>&lt;chr&gt;</th><th scope=col>&lt;chr&gt;</th><th scope=col>&lt;chr&gt;</th><th scope=col>&lt;dbl[,1]&gt;</th><th scope=col>&lt;chr&gt;</th><th scope=col>&lt;chr&gt;</th><th scope=col>&lt;dbl[,1]&gt;</th><th scope=col>&lt;dbl[,1]&gt;</th><th scope=col>&lt;dbl[,1]&gt;</th><th scope=col>&lt;chr&gt;</th></tr>\n",
              "</thead>\n",
              "<tbody>\n",
              "\t<tr><td> 1.5650589</td><td>Married </td><td>T1</td><td>N1</td><td>IIA </td><td>Poorly differentiated    </td><td>3</td><td>Regional</td><td>-1.2535056</td><td>Positive</td><td>Positive</td><td> 1.1905284</td><td>-0.6180949</td><td>-0.4928995</td><td>Alive</td></tr>\n",
              "\t<tr><td>-0.4431672</td><td>Married </td><td>T2</td><td>N2</td><td>IIIA</td><td>Moderately differentiated</td><td>2</td><td>Regional</td><td> 0.2143185</td><td>Positive</td><td>Positive</td><td>-0.0440891</td><td> 0.1647864</td><td>-0.4056450</td><td>Alive</td></tr>\n",
              "\t<tr><td> 0.4493777</td><td>Divorced</td><td>T3</td><td>N3</td><td>IIIC</td><td>Moderately differentiated</td><td>2</td><td>Regional</td><td> 1.5400952</td><td>Positive</td><td>Positive</td><td>-0.0440891</td><td> 0.5562271</td><td> 0.1615099</td><td>Alive</td></tr>\n",
              "\t<tr><td> 0.4493777</td><td>Married </td><td>T1</td><td>N1</td><td>IIA </td><td>Poorly differentiated    </td><td>3</td><td>Regional</td><td>-0.5906173</td><td>Positive</td><td>Positive</td><td>-1.5256301</td><td>-0.6180949</td><td> 0.5541556</td><td>Alive</td></tr>\n",
              "\t<tr><td>-0.7778715</td><td>Married </td><td>T2</td><td>N1</td><td>IIB </td><td>Poorly differentiated    </td><td>3</td><td>Regional</td><td> 0.4984135</td><td>Positive</td><td>Positive</td><td>-1.4021683</td><td>-0.6180949</td><td>-0.9291725</td><td>Alive</td></tr>\n",
              "\t<tr><td>-0.3315991</td><td>Single  </td><td>T1</td><td>N1</td><td>IIA </td><td>Moderately differentiated</td><td>2</td><td>Regional</td><td>-0.4959190</td><td>Positive</td><td>Positive</td><td> 0.4497579</td><td>-0.4223746</td><td> 0.7722920</td><td>Alive</td></tr>\n",
              "</tbody>\n",
              "</table>\n"
            ],
            "text/markdown": "\nA tibble: 6 × 15\n\n| Age &lt;dbl[,1]&gt; | Marital Status &lt;chr&gt; | T Stage &lt;chr&gt; | N Stage &lt;chr&gt; | 6th Stage &lt;chr&gt; | differentiate &lt;chr&gt; | Grade &lt;chr&gt; | A Stage &lt;chr&gt; | Tumor Size &lt;dbl[,1]&gt; | Estrogen Status &lt;chr&gt; | Progesterone Status &lt;chr&gt; | Regional Node Examined &lt;dbl[,1]&gt; | Reginol Node Positive &lt;dbl[,1]&gt; | Survival Months &lt;dbl[,1]&gt; | Status &lt;chr&gt; |\n|---|---|---|---|---|---|---|---|---|---|---|---|---|---|---|\n|  1.5650589 | Married  | T1 | N1 | IIA  | Poorly differentiated     | 3 | Regional | -1.2535056 | Positive | Positive |  1.1905284 | -0.6180949 | -0.4928995 | Alive |\n| -0.4431672 | Married  | T2 | N2 | IIIA | Moderately differentiated | 2 | Regional |  0.2143185 | Positive | Positive | -0.0440891 |  0.1647864 | -0.4056450 | Alive |\n|  0.4493777 | Divorced | T3 | N3 | IIIC | Moderately differentiated | 2 | Regional |  1.5400952 | Positive | Positive | -0.0440891 |  0.5562271 |  0.1615099 | Alive |\n|  0.4493777 | Married  | T1 | N1 | IIA  | Poorly differentiated     | 3 | Regional | -0.5906173 | Positive | Positive | -1.5256301 | -0.6180949 |  0.5541556 | Alive |\n| -0.7778715 | Married  | T2 | N1 | IIB  | Poorly differentiated     | 3 | Regional |  0.4984135 | Positive | Positive | -1.4021683 | -0.6180949 | -0.9291725 | Alive |\n| -0.3315991 | Single   | T1 | N1 | IIA  | Moderately differentiated | 2 | Regional | -0.4959190 | Positive | Positive |  0.4497579 | -0.4223746 |  0.7722920 | Alive |\n\n",
            "text/latex": "A tibble: 6 × 15\n\\begin{tabular}{lllllllllllllll}\n Age & Marital Status & T Stage & N Stage & 6th Stage & differentiate & Grade & A Stage & Tumor Size & Estrogen Status & Progesterone Status & Regional Node Examined & Reginol Node Positive & Survival Months & Status\\\\\n <dbl{[},1{]}> & <chr> & <chr> & <chr> & <chr> & <chr> & <chr> & <chr> & <dbl{[},1{]}> & <chr> & <chr> & <dbl{[},1{]}> & <dbl{[},1{]}> & <dbl{[},1{]}> & <chr>\\\\\n\\hline\n\t  1.5650589 & Married  & T1 & N1 & IIA  & Poorly differentiated     & 3 & Regional & -1.2535056 & Positive & Positive &  1.1905284 & -0.6180949 & -0.4928995 & Alive\\\\\n\t -0.4431672 & Married  & T2 & N2 & IIIA & Moderately differentiated & 2 & Regional &  0.2143185 & Positive & Positive & -0.0440891 &  0.1647864 & -0.4056450 & Alive\\\\\n\t  0.4493777 & Divorced & T3 & N3 & IIIC & Moderately differentiated & 2 & Regional &  1.5400952 & Positive & Positive & -0.0440891 &  0.5562271 &  0.1615099 & Alive\\\\\n\t  0.4493777 & Married  & T1 & N1 & IIA  & Poorly differentiated     & 3 & Regional & -0.5906173 & Positive & Positive & -1.5256301 & -0.6180949 &  0.5541556 & Alive\\\\\n\t -0.7778715 & Married  & T2 & N1 & IIB  & Poorly differentiated     & 3 & Regional &  0.4984135 & Positive & Positive & -1.4021683 & -0.6180949 & -0.9291725 & Alive\\\\\n\t -0.3315991 & Single   & T1 & N1 & IIA  & Moderately differentiated & 2 & Regional & -0.4959190 & Positive & Positive &  0.4497579 & -0.4223746 &  0.7722920 & Alive\\\\\n\\end{tabular}\n",
            "text/plain": [
              "  Age        Marital Status T Stage N Stage 6th Stage differentiate            \n",
              "1  1.5650589 Married        T1      N1      IIA       Poorly differentiated    \n",
              "2 -0.4431672 Married        T2      N2      IIIA      Moderately differentiated\n",
              "3  0.4493777 Divorced       T3      N3      IIIC      Moderately differentiated\n",
              "4  0.4493777 Married        T1      N1      IIA       Poorly differentiated    \n",
              "5 -0.7778715 Married        T2      N1      IIB       Poorly differentiated    \n",
              "6 -0.3315991 Single         T1      N1      IIA       Moderately differentiated\n",
              "  Grade A Stage  Tumor Size Estrogen Status Progesterone Status\n",
              "1 3     Regional -1.2535056 Positive        Positive           \n",
              "2 2     Regional  0.2143185 Positive        Positive           \n",
              "3 2     Regional  1.5400952 Positive        Positive           \n",
              "4 3     Regional -0.5906173 Positive        Positive           \n",
              "5 3     Regional  0.4984135 Positive        Positive           \n",
              "6 2     Regional -0.4959190 Positive        Positive           \n",
              "  Regional Node Examined Reginol Node Positive Survival Months Status\n",
              "1  1.1905284             -0.6180949            -0.4928995      Alive \n",
              "2 -0.0440891              0.1647864            -0.4056450      Alive \n",
              "3 -0.0440891              0.5562271             0.1615099      Alive \n",
              "4 -1.5256301             -0.6180949             0.5541556      Alive \n",
              "5 -1.4021683             -0.6180949            -0.9291725      Alive \n",
              "6  0.4497579             -0.4223746             0.7722920      Alive "
            ]
          },
          "metadata": {}
        }
      ]
    },
    {
      "cell_type": "code",
      "source": [
        "# Check for missing values in the original data\n",
        "print(sapply(imputed_df, function(x) sum(is.na(x))))"
      ],
      "metadata": {
        "colab": {
          "base_uri": "https://localhost:8080/"
        },
        "id": "LqR_1wIj20pX",
        "outputId": "f0ee72dd-8142-40f8-aecd-9be7166a60bc"
      },
      "execution_count": null,
      "outputs": [
        {
          "output_type": "stream",
          "name": "stdout",
          "text": [
            "                   Age         Marital Status                T Stage \n",
            "                     0                      0                      0 \n",
            "               N Stage              6th Stage          differentiate \n",
            "                     0                      0                      0 \n",
            "                 Grade                A Stage             Tumor Size \n",
            "                     0                      0                      0 \n",
            "       Estrogen Status    Progesterone Status Regional Node Examined \n",
            "                     0                      0                      0 \n",
            " Reginol Node Positive        Survival Months                 Status \n",
            "                     0                      0                      0 \n"
          ]
        }
      ]
    },
    {
      "cell_type": "markdown",
      "source": [
        "##Handling categorical data"
      ],
      "metadata": {
        "id": "x2EPvzMQF7Py"
      }
    },
    {
      "cell_type": "code",
      "source": [
        "# Converting all character columns to factors and then to numeric (label encoding)\n",
        "numeric_scaled_data <- data.frame(lapply(imputed_df, function(x) {\n",
        "  if (is.character(x)) {\n",
        "    return(as.numeric(as.factor(x)))\n",
        "  } else {\n",
        "    return(x)\n",
        "  }\n",
        "}))"
      ],
      "metadata": {
        "id": "Pqag-sSNF-m8"
      },
      "execution_count": null,
      "outputs": []
    },
    {
      "cell_type": "code",
      "source": [
        "head(numeric_scaled_data)"
      ],
      "metadata": {
        "colab": {
          "base_uri": "https://localhost:8080/",
          "height": 306
        },
        "id": "5ZYYMczlGCfW",
        "outputId": "774d4540-2a98-48fd-97f2-80d550c5e043"
      },
      "execution_count": null,
      "outputs": [
        {
          "output_type": "display_data",
          "data": {
            "text/html": [
              "<table class=\"dataframe\">\n",
              "<caption>A data.frame: 6 × 15</caption>\n",
              "<thead>\n",
              "\t<tr><th></th><th scope=col>Age</th><th scope=col>Marital.Status</th><th scope=col>T.Stage</th><th scope=col>N.Stage</th><th scope=col>X6th.Stage</th><th scope=col>differentiate</th><th scope=col>Grade</th><th scope=col>A.Stage</th><th scope=col>Tumor.Size</th><th scope=col>Estrogen.Status</th><th scope=col>Progesterone.Status</th><th scope=col>Regional.Node.Examined</th><th scope=col>Reginol.Node.Positive</th><th scope=col>Survival.Months</th><th scope=col>Status</th></tr>\n",
              "\t<tr><th></th><th scope=col>&lt;dbl&gt;</th><th scope=col>&lt;dbl&gt;</th><th scope=col>&lt;dbl&gt;</th><th scope=col>&lt;dbl&gt;</th><th scope=col>&lt;dbl&gt;</th><th scope=col>&lt;dbl&gt;</th><th scope=col>&lt;dbl&gt;</th><th scope=col>&lt;dbl&gt;</th><th scope=col>&lt;dbl&gt;</th><th scope=col>&lt;dbl&gt;</th><th scope=col>&lt;dbl&gt;</th><th scope=col>&lt;dbl&gt;</th><th scope=col>&lt;dbl&gt;</th><th scope=col>&lt;dbl&gt;</th><th scope=col>&lt;dbl&gt;</th></tr>\n",
              "</thead>\n",
              "<tbody>\n",
              "\t<tr><th scope=row>1</th><td> 1.5650589</td><td>2</td><td>1</td><td>1</td><td>1</td><td>2</td><td>3</td><td>2</td><td>-1.2535056</td><td>2</td><td>2</td><td> 1.1905284</td><td>-0.6180949</td><td>-0.4928995</td><td>1</td></tr>\n",
              "\t<tr><th scope=row>2</th><td>-0.4431672</td><td>2</td><td>2</td><td>2</td><td>3</td><td>1</td><td>2</td><td>2</td><td> 0.2143185</td><td>2</td><td>2</td><td>-0.0440891</td><td> 0.1647864</td><td>-0.4056450</td><td>1</td></tr>\n",
              "\t<tr><th scope=row>3</th><td> 0.4493777</td><td>1</td><td>3</td><td>3</td><td>5</td><td>1</td><td>2</td><td>2</td><td> 1.5400952</td><td>2</td><td>2</td><td>-0.0440891</td><td> 0.5562271</td><td> 0.1615099</td><td>1</td></tr>\n",
              "\t<tr><th scope=row>4</th><td> 0.4493777</td><td>2</td><td>1</td><td>1</td><td>1</td><td>2</td><td>3</td><td>2</td><td>-0.5906173</td><td>2</td><td>2</td><td>-1.5256301</td><td>-0.6180949</td><td> 0.5541556</td><td>1</td></tr>\n",
              "\t<tr><th scope=row>5</th><td>-0.7778715</td><td>2</td><td>2</td><td>1</td><td>2</td><td>2</td><td>3</td><td>2</td><td> 0.4984135</td><td>2</td><td>2</td><td>-1.4021683</td><td>-0.6180949</td><td>-0.9291725</td><td>1</td></tr>\n",
              "\t<tr><th scope=row>6</th><td>-0.3315991</td><td>4</td><td>1</td><td>1</td><td>1</td><td>1</td><td>2</td><td>2</td><td>-0.4959190</td><td>2</td><td>2</td><td> 0.4497579</td><td>-0.4223746</td><td> 0.7722920</td><td>1</td></tr>\n",
              "</tbody>\n",
              "</table>\n"
            ],
            "text/markdown": "\nA data.frame: 6 × 15\n\n| <!--/--> | Age &lt;dbl&gt; | Marital.Status &lt;dbl&gt; | T.Stage &lt;dbl&gt; | N.Stage &lt;dbl&gt; | X6th.Stage &lt;dbl&gt; | differentiate &lt;dbl&gt; | Grade &lt;dbl&gt; | A.Stage &lt;dbl&gt; | Tumor.Size &lt;dbl&gt; | Estrogen.Status &lt;dbl&gt; | Progesterone.Status &lt;dbl&gt; | Regional.Node.Examined &lt;dbl&gt; | Reginol.Node.Positive &lt;dbl&gt; | Survival.Months &lt;dbl&gt; | Status &lt;dbl&gt; |\n|---|---|---|---|---|---|---|---|---|---|---|---|---|---|---|---|\n| 1 |  1.5650589 | 2 | 1 | 1 | 1 | 2 | 3 | 2 | -1.2535056 | 2 | 2 |  1.1905284 | -0.6180949 | -0.4928995 | 1 |\n| 2 | -0.4431672 | 2 | 2 | 2 | 3 | 1 | 2 | 2 |  0.2143185 | 2 | 2 | -0.0440891 |  0.1647864 | -0.4056450 | 1 |\n| 3 |  0.4493777 | 1 | 3 | 3 | 5 | 1 | 2 | 2 |  1.5400952 | 2 | 2 | -0.0440891 |  0.5562271 |  0.1615099 | 1 |\n| 4 |  0.4493777 | 2 | 1 | 1 | 1 | 2 | 3 | 2 | -0.5906173 | 2 | 2 | -1.5256301 | -0.6180949 |  0.5541556 | 1 |\n| 5 | -0.7778715 | 2 | 2 | 1 | 2 | 2 | 3 | 2 |  0.4984135 | 2 | 2 | -1.4021683 | -0.6180949 | -0.9291725 | 1 |\n| 6 | -0.3315991 | 4 | 1 | 1 | 1 | 1 | 2 | 2 | -0.4959190 | 2 | 2 |  0.4497579 | -0.4223746 |  0.7722920 | 1 |\n\n",
            "text/latex": "A data.frame: 6 × 15\n\\begin{tabular}{r|lllllllllllllll}\n  & Age & Marital.Status & T.Stage & N.Stage & X6th.Stage & differentiate & Grade & A.Stage & Tumor.Size & Estrogen.Status & Progesterone.Status & Regional.Node.Examined & Reginol.Node.Positive & Survival.Months & Status\\\\\n  & <dbl> & <dbl> & <dbl> & <dbl> & <dbl> & <dbl> & <dbl> & <dbl> & <dbl> & <dbl> & <dbl> & <dbl> & <dbl> & <dbl> & <dbl>\\\\\n\\hline\n\t1 &  1.5650589 & 2 & 1 & 1 & 1 & 2 & 3 & 2 & -1.2535056 & 2 & 2 &  1.1905284 & -0.6180949 & -0.4928995 & 1\\\\\n\t2 & -0.4431672 & 2 & 2 & 2 & 3 & 1 & 2 & 2 &  0.2143185 & 2 & 2 & -0.0440891 &  0.1647864 & -0.4056450 & 1\\\\\n\t3 &  0.4493777 & 1 & 3 & 3 & 5 & 1 & 2 & 2 &  1.5400952 & 2 & 2 & -0.0440891 &  0.5562271 &  0.1615099 & 1\\\\\n\t4 &  0.4493777 & 2 & 1 & 1 & 1 & 2 & 3 & 2 & -0.5906173 & 2 & 2 & -1.5256301 & -0.6180949 &  0.5541556 & 1\\\\\n\t5 & -0.7778715 & 2 & 2 & 1 & 2 & 2 & 3 & 2 &  0.4984135 & 2 & 2 & -1.4021683 & -0.6180949 & -0.9291725 & 1\\\\\n\t6 & -0.3315991 & 4 & 1 & 1 & 1 & 1 & 2 & 2 & -0.4959190 & 2 & 2 &  0.4497579 & -0.4223746 &  0.7722920 & 1\\\\\n\\end{tabular}\n",
            "text/plain": [
              "  Age        Marital.Status T.Stage N.Stage X6th.Stage differentiate Grade\n",
              "1  1.5650589 2              1       1       1          2             3    \n",
              "2 -0.4431672 2              2       2       3          1             2    \n",
              "3  0.4493777 1              3       3       5          1             2    \n",
              "4  0.4493777 2              1       1       1          2             3    \n",
              "5 -0.7778715 2              2       1       2          2             3    \n",
              "6 -0.3315991 4              1       1       1          1             2    \n",
              "  A.Stage Tumor.Size Estrogen.Status Progesterone.Status Regional.Node.Examined\n",
              "1 2       -1.2535056 2               2                    1.1905284            \n",
              "2 2        0.2143185 2               2                   -0.0440891            \n",
              "3 2        1.5400952 2               2                   -0.0440891            \n",
              "4 2       -0.5906173 2               2                   -1.5256301            \n",
              "5 2        0.4984135 2               2                   -1.4021683            \n",
              "6 2       -0.4959190 2               2                    0.4497579            \n",
              "  Reginol.Node.Positive Survival.Months Status\n",
              "1 -0.6180949            -0.4928995      1     \n",
              "2  0.1647864            -0.4056450      1     \n",
              "3  0.5562271             0.1615099      1     \n",
              "4 -0.6180949             0.5541556      1     \n",
              "5 -0.6180949            -0.9291725      1     \n",
              "6 -0.4223746             0.7722920      1     "
            ]
          },
          "metadata": {}
        }
      ]
    },
    {
      "cell_type": "markdown",
      "source": [
        "##Feature selection\n",
        "Feature selectionw ill be done with Recursive Feature Elimination (RFE) which improves model performance by systematically removing less important features. It starts by building a model with all features, ranks them based on importance, and iteratively eliminates the least important ones.\n",
        "\n",
        "This process continues recursively, rebuilding the model each time, until a specified number of features remain. RFE often uses cross-validation to ensure that the selected features generalize well to unseen data. This method enhances efficiency, improves predictive power, and ensures robustness by focusing on the most critical features."
      ],
      "metadata": {
        "id": "bnx-c_RxSNFB"
      }
    },
    {
      "cell_type": "code",
      "source": [
        "# Converting the scaled data to a data frame to ensure proper handling\n",
        "data_scaled <- as.data.frame(numeric_scaled_data)\n",
        "\n",
        "# Separating features and target again after scaling\n",
        "features <- data_scaled[, -ncol(data_scaled)]\n",
        "target <- data_scaled$Status\n",
        "\n",
        "# Converting target to factor to ensure classification\n",
        "target <- as.factor(target)\n",
        "\n",
        "# Checking the number of samples in features and target\n",
        "cat(\"Number of samples in features:\", nrow(features), \"\\n\")\n",
        "cat(\"Number of samples in target:\", length(target), \"\\n\")\n",
        "\n",
        "# Ensuring the number of samples in features and target are the same\n",
        "if (nrow(features) != length(target)) {\n",
        "  stop(\"The number of samples in features and target do not match.\")\n",
        "}\n",
        "\n",
        "# Feature selection using Recursive Feature Elimination (RFE)\n",
        "control <- rfeControl(functions = rfFuncs, method = \"cv\", number = 10)\n",
        "results <- rfe(features, target, sizes = c(5, 10, 15, 20), rfeControl = control)\n",
        "\n",
        "print(results)\n",
        "\n",
        "# Extract the names of the selected features\n",
        "selected_features <- predictors(results)\n",
        "print(selected_features)\n"
      ],
      "metadata": {
        "colab": {
          "base_uri": "https://localhost:8080/"
        },
        "id": "WY6YuSwtSSTv",
        "outputId": "5b4c98e7-e44a-41b8-bcea-abcb2545b636"
      },
      "execution_count": 400,
      "outputs": [
        {
          "output_type": "stream",
          "name": "stdout",
          "text": [
            "Number of samples in features: 4024 \n",
            "Number of samples in target: 4024 \n",
            "\n",
            "Recursive feature selection\n",
            "\n",
            "Outer resampling method: Cross-Validated (10 fold) \n",
            "\n",
            "Resampling performance over subset size:\n",
            "\n",
            " Variables Accuracy  Kappa AccuracySD KappaSD Selected\n",
            "         5   0.8991 0.5351   0.009817 0.05476         \n",
            "        10   0.9051 0.5631   0.010711 0.05843         \n",
            "        14   0.9051 0.5608   0.011949 0.06598        *\n",
            "\n",
            "The top 5 variables (out of 14):\n",
            "   Survival.Months, X6th.Stage, Progesterone.Status, Estrogen.Status, N.Stage\n",
            "\n",
            " [1] \"Survival.Months\"        \"X6th.Stage\"             \"Progesterone.Status\"   \n",
            " [4] \"Estrogen.Status\"        \"N.Stage\"                \"Reginol.Node.Positive\" \n",
            " [7] \"Tumor.Size\"             \"Age\"                    \"Grade\"                 \n",
            "[10] \"Regional.Node.Examined\" \"T.Stage\"                \"differentiate\"         \n",
            "[13] \"Marital.Status\"         \"A.Stage\"               \n"
          ]
        }
      ]
    },
    {
      "cell_type": "markdown",
      "source": [
        "According to the algorithm these are the most important features so we will proceed building a model with these features and we will then select the best model."
      ],
      "metadata": {
        "id": "5Rrv6dJPppoV"
      }
    },
    {
      "cell_type": "code",
      "source": [
        "# Subset of the dataset to include only the selected features and the target column\n",
        " selected_data <- selected_data %>% select(\"Survival.Months\", \"X6th.Stage\", \"Progesterone.Status\", \"N.Stage\", \"Reginol.Node.Positive\", \"Status\")\n",
        " head(selected_data)"
      ],
      "metadata": {
        "colab": {
          "base_uri": "https://localhost:8080/",
          "height": 286
        },
        "id": "tw1Y3WE-XY_D",
        "outputId": "94db8861-885f-47f0-e57d-13f2af8d52bf"
      },
      "execution_count": 401,
      "outputs": [
        {
          "output_type": "display_data",
          "data": {
            "text/html": [
              "<table class=\"dataframe\">\n",
              "<caption>A data.frame: 6 × 6</caption>\n",
              "<thead>\n",
              "\t<tr><th></th><th scope=col>Survival.Months</th><th scope=col>X6th.Stage</th><th scope=col>Progesterone.Status</th><th scope=col>N.Stage</th><th scope=col>Reginol.Node.Positive</th><th scope=col>Status</th></tr>\n",
              "\t<tr><th></th><th scope=col>&lt;dbl&gt;</th><th scope=col>&lt;dbl&gt;</th><th scope=col>&lt;dbl&gt;</th><th scope=col>&lt;dbl&gt;</th><th scope=col>&lt;dbl&gt;</th><th scope=col>&lt;dbl&gt;</th></tr>\n",
              "</thead>\n",
              "<tbody>\n",
              "\t<tr><th scope=row>1</th><td>-0.4928995</td><td>1</td><td>2</td><td>1</td><td>-0.6180949</td><td>1</td></tr>\n",
              "\t<tr><th scope=row>2</th><td>-0.4056450</td><td>3</td><td>2</td><td>2</td><td> 0.1647864</td><td>1</td></tr>\n",
              "\t<tr><th scope=row>3</th><td> 0.1615099</td><td>5</td><td>2</td><td>3</td><td> 0.5562271</td><td>1</td></tr>\n",
              "\t<tr><th scope=row>4</th><td> 0.5541556</td><td>1</td><td>2</td><td>1</td><td>-0.6180949</td><td>1</td></tr>\n",
              "\t<tr><th scope=row>5</th><td>-0.9291725</td><td>2</td><td>2</td><td>1</td><td>-0.6180949</td><td>1</td></tr>\n",
              "\t<tr><th scope=row>6</th><td> 0.7722920</td><td>1</td><td>2</td><td>1</td><td>-0.4223746</td><td>1</td></tr>\n",
              "</tbody>\n",
              "</table>\n"
            ],
            "text/markdown": "\nA data.frame: 6 × 6\n\n| <!--/--> | Survival.Months &lt;dbl&gt; | X6th.Stage &lt;dbl&gt; | Progesterone.Status &lt;dbl&gt; | N.Stage &lt;dbl&gt; | Reginol.Node.Positive &lt;dbl&gt; | Status &lt;dbl&gt; |\n|---|---|---|---|---|---|---|\n| 1 | -0.4928995 | 1 | 2 | 1 | -0.6180949 | 1 |\n| 2 | -0.4056450 | 3 | 2 | 2 |  0.1647864 | 1 |\n| 3 |  0.1615099 | 5 | 2 | 3 |  0.5562271 | 1 |\n| 4 |  0.5541556 | 1 | 2 | 1 | -0.6180949 | 1 |\n| 5 | -0.9291725 | 2 | 2 | 1 | -0.6180949 | 1 |\n| 6 |  0.7722920 | 1 | 2 | 1 | -0.4223746 | 1 |\n\n",
            "text/latex": "A data.frame: 6 × 6\n\\begin{tabular}{r|llllll}\n  & Survival.Months & X6th.Stage & Progesterone.Status & N.Stage & Reginol.Node.Positive & Status\\\\\n  & <dbl> & <dbl> & <dbl> & <dbl> & <dbl> & <dbl>\\\\\n\\hline\n\t1 & -0.4928995 & 1 & 2 & 1 & -0.6180949 & 1\\\\\n\t2 & -0.4056450 & 3 & 2 & 2 &  0.1647864 & 1\\\\\n\t3 &  0.1615099 & 5 & 2 & 3 &  0.5562271 & 1\\\\\n\t4 &  0.5541556 & 1 & 2 & 1 & -0.6180949 & 1\\\\\n\t5 & -0.9291725 & 2 & 2 & 1 & -0.6180949 & 1\\\\\n\t6 &  0.7722920 & 1 & 2 & 1 & -0.4223746 & 1\\\\\n\\end{tabular}\n",
            "text/plain": [
              "  Survival.Months X6th.Stage Progesterone.Status N.Stage Reginol.Node.Positive\n",
              "1 -0.4928995      1          2                   1       -0.6180949           \n",
              "2 -0.4056450      3          2                   2        0.1647864           \n",
              "3  0.1615099      5          2                   3        0.5562271           \n",
              "4  0.5541556      1          2                   1       -0.6180949           \n",
              "5 -0.9291725      2          2                   1       -0.6180949           \n",
              "6  0.7722920      1          2                   1       -0.4223746           \n",
              "  Status\n",
              "1 1     \n",
              "2 1     \n",
              "3 1     \n",
              "4 1     \n",
              "5 1     \n",
              "6 1     "
            ]
          },
          "metadata": {}
        }
      ]
    },
    {
      "cell_type": "markdown",
      "source": [
        "##Oversampling\n",
        "Since our data is highly unbalanced, oversampling was applied to get a balanced dataset which later on will contribute to a more balanced model.\n",
        "\n",
        "The model of choice to perform suc thing was SMOTE which works by enerating synthetic examples of the minority class. It works by selecting examples that are close in feature space, drawing a line between the examples in the feature space, and creating new synthetic points along this line. This approach helps to improve the performance of classifiers by ensuring that they are trained on a more balanced dataset.\n",
        "\n",
        "Oversampling was performed after the feature selection in order to avoid doing unnecessary computations which would later on be discarded."
      ],
      "metadata": {
        "id": "6HMxj1stXQrB"
      }
    },
    {
      "cell_type": "code",
      "source": [
        "# Separating features and target\n",
        "X <- selected_data[, !names(selected_data) %in% \"Status\"]\n",
        "y <- selected_data$Status\n",
        "\n",
        "\n",
        "# Converting categorical variables to numeric using one-hot encoding just in case\n",
        "X <- as.data.frame(model.matrix(~.-1, data = X))\n",
        "y <- as.numeric(as.factor(y)) - 1\n",
        "# Applying SMOTE\n",
        "smote_result <- SMOTE(X, y, K = 5, dup_size = 2)\n",
        "\n",
        "oversampled_data <- data.frame(smote_result$data)\n",
        "\n",
        "oversampled_data <- oversampled_data %>% select(-target1, -target2)"
      ],
      "metadata": {
        "id": "ApD5Im6Xo-Tk"
      },
      "execution_count": 465,
      "outputs": []
    },
    {
      "cell_type": "code",
      "source": [
        "head(oversampled_data)"
      ],
      "metadata": {
        "colab": {
          "base_uri": "https://localhost:8080/",
          "height": 286
        },
        "id": "RVA4Hb7Fpwfg",
        "outputId": "46d56d2e-fce4-4edb-b001-c96153105630"
      },
      "execution_count": 466,
      "outputs": [
        {
          "output_type": "display_data",
          "data": {
            "text/html": [
              "<table class=\"dataframe\">\n",
              "<caption>A data.frame: 6 × 6</caption>\n",
              "<thead>\n",
              "\t<tr><th></th><th scope=col>Survival.Months</th><th scope=col>X6th.Stage</th><th scope=col>Progesterone.Status</th><th scope=col>N.Stage</th><th scope=col>Reginol.Node.Positive</th><th scope=col>class</th></tr>\n",
              "\t<tr><th></th><th scope=col>&lt;dbl&gt;</th><th scope=col>&lt;dbl&gt;</th><th scope=col>&lt;dbl&gt;</th><th scope=col>&lt;dbl&gt;</th><th scope=col>&lt;dbl&gt;</th><th scope=col>&lt;chr&gt;</th></tr>\n",
              "</thead>\n",
              "<tbody>\n",
              "\t<tr><th scope=row>1</th><td>-1.2345636</td><td>4</td><td>2</td><td>2</td><td> 0.75194741</td><td>1</td></tr>\n",
              "\t<tr><th scope=row>2</th><td>-2.0198549</td><td>2</td><td>1</td><td>1</td><td>-0.61809494</td><td>1</td></tr>\n",
              "\t<tr><th scope=row>3</th><td> 0.4669010</td><td>3</td><td>1</td><td>1</td><td>-0.22665426</td><td>1</td></tr>\n",
              "\t<tr><th scope=row>4</th><td> 0.7286648</td><td>1</td><td>1</td><td>1</td><td>-0.61809494</td><td>1</td></tr>\n",
              "\t<tr><th scope=row>5</th><td>-2.7178917</td><td>3</td><td>1</td><td>2</td><td> 0.55622708</td><td>1</td></tr>\n",
              "\t<tr><th scope=row>6</th><td>-1.1909363</td><td>3</td><td>2</td><td>2</td><td>-0.03093393</td><td>1</td></tr>\n",
              "</tbody>\n",
              "</table>\n"
            ],
            "text/markdown": "\nA data.frame: 6 × 6\n\n| <!--/--> | Survival.Months &lt;dbl&gt; | X6th.Stage &lt;dbl&gt; | Progesterone.Status &lt;dbl&gt; | N.Stage &lt;dbl&gt; | Reginol.Node.Positive &lt;dbl&gt; | class &lt;chr&gt; |\n|---|---|---|---|---|---|---|\n| 1 | -1.2345636 | 4 | 2 | 2 |  0.75194741 | 1 |\n| 2 | -2.0198549 | 2 | 1 | 1 | -0.61809494 | 1 |\n| 3 |  0.4669010 | 3 | 1 | 1 | -0.22665426 | 1 |\n| 4 |  0.7286648 | 1 | 1 | 1 | -0.61809494 | 1 |\n| 5 | -2.7178917 | 3 | 1 | 2 |  0.55622708 | 1 |\n| 6 | -1.1909363 | 3 | 2 | 2 | -0.03093393 | 1 |\n\n",
            "text/latex": "A data.frame: 6 × 6\n\\begin{tabular}{r|llllll}\n  & Survival.Months & X6th.Stage & Progesterone.Status & N.Stage & Reginol.Node.Positive & class\\\\\n  & <dbl> & <dbl> & <dbl> & <dbl> & <dbl> & <chr>\\\\\n\\hline\n\t1 & -1.2345636 & 4 & 2 & 2 &  0.75194741 & 1\\\\\n\t2 & -2.0198549 & 2 & 1 & 1 & -0.61809494 & 1\\\\\n\t3 &  0.4669010 & 3 & 1 & 1 & -0.22665426 & 1\\\\\n\t4 &  0.7286648 & 1 & 1 & 1 & -0.61809494 & 1\\\\\n\t5 & -2.7178917 & 3 & 1 & 2 &  0.55622708 & 1\\\\\n\t6 & -1.1909363 & 3 & 2 & 2 & -0.03093393 & 1\\\\\n\\end{tabular}\n",
            "text/plain": [
              "  Survival.Months X6th.Stage Progesterone.Status N.Stage Reginol.Node.Positive\n",
              "1 -1.2345636      4          2                   2        0.75194741          \n",
              "2 -2.0198549      2          1                   1       -0.61809494          \n",
              "3  0.4669010      3          1                   1       -0.22665426          \n",
              "4  0.7286648      1          1                   1       -0.61809494          \n",
              "5 -2.7178917      3          1                   2        0.55622708          \n",
              "6 -1.1909363      3          2                   2       -0.03093393          \n",
              "  class\n",
              "1 1    \n",
              "2 1    \n",
              "3 1    \n",
              "4 1    \n",
              "5 1    \n",
              "6 1    "
            ]
          },
          "metadata": {}
        }
      ]
    },
    {
      "cell_type": "markdown",
      "source": [
        "##Training and testing sets"
      ],
      "metadata": {
        "id": "ijLf9oGyqoUc"
      }
    },
    {
      "cell_type": "code",
      "source": [
        "# Splitting the data into training and testing sets\n",
        "set.seed(42)\n",
        "train_index <- createDataPartition(oversampled_data$class, p = 0.8, list = FALSE)\n",
        "\n",
        "train_data <- oversampled_data[train_index, ]\n",
        "test_data <- oversampled_data[-train_index, ]\n",
        "\n",
        "# Separatting features and target for train and test sets\n",
        "X_train <- train_data[, !names(train_data) %in% \"class\"]\n",
        "y_train <- train_data$class\n",
        "X_test <- test_data[, !names(test_data) %in% \"class\"]\n",
        "y_test <- test_data$class"
      ],
      "metadata": {
        "id": "5LWwWn7LqrLV"
      },
      "execution_count": 467,
      "outputs": []
    },
    {
      "cell_type": "code",
      "source": [
        "head(X_train)"
      ],
      "metadata": {
        "colab": {
          "base_uri": "https://localhost:8080/",
          "height": 286
        },
        "id": "Zuq5GDggqz9A",
        "outputId": "32f047d3-d48a-48b7-d5dd-ffd75b2628c4"
      },
      "execution_count": 468,
      "outputs": [
        {
          "output_type": "display_data",
          "data": {
            "text/html": [
              "<table class=\"dataframe\">\n",
              "<caption>A data.frame: 6 × 5</caption>\n",
              "<thead>\n",
              "\t<tr><th></th><th scope=col>Survival.Months</th><th scope=col>X6th.Stage</th><th scope=col>Progesterone.Status</th><th scope=col>N.Stage</th><th scope=col>Reginol.Node.Positive</th></tr>\n",
              "\t<tr><th></th><th scope=col>&lt;dbl&gt;</th><th scope=col>&lt;dbl&gt;</th><th scope=col>&lt;dbl&gt;</th><th scope=col>&lt;dbl&gt;</th><th scope=col>&lt;dbl&gt;</th></tr>\n",
              "</thead>\n",
              "<tbody>\n",
              "\t<tr><th scope=row>2</th><td>-2.0198549</td><td>2</td><td>1</td><td>1</td><td>-0.61809494</td></tr>\n",
              "\t<tr><th scope=row>3</th><td> 0.4669010</td><td>3</td><td>1</td><td>1</td><td>-0.22665426</td></tr>\n",
              "\t<tr><th scope=row>6</th><td>-1.1909363</td><td>3</td><td>2</td><td>2</td><td>-0.03093393</td></tr>\n",
              "\t<tr><th scope=row>7</th><td>-1.5399547</td><td>1</td><td>2</td><td>1</td><td>-0.42237460</td></tr>\n",
              "\t<tr><th scope=row>8</th><td>-1.7580911</td><td>5</td><td>1</td><td>3</td><td>-0.27607041</td></tr>\n",
              "\t<tr><th scope=row>9</th><td>-0.7982906</td><td>2</td><td>2</td><td>1</td><td>-0.61809494</td></tr>\n",
              "</tbody>\n",
              "</table>\n"
            ],
            "text/markdown": "\nA data.frame: 6 × 5\n\n| <!--/--> | Survival.Months &lt;dbl&gt; | X6th.Stage &lt;dbl&gt; | Progesterone.Status &lt;dbl&gt; | N.Stage &lt;dbl&gt; | Reginol.Node.Positive &lt;dbl&gt; |\n|---|---|---|---|---|---|\n| 2 | -2.0198549 | 2 | 1 | 1 | -0.61809494 |\n| 3 |  0.4669010 | 3 | 1 | 1 | -0.22665426 |\n| 6 | -1.1909363 | 3 | 2 | 2 | -0.03093393 |\n| 7 | -1.5399547 | 1 | 2 | 1 | -0.42237460 |\n| 8 | -1.7580911 | 5 | 1 | 3 | -0.27607041 |\n| 9 | -0.7982906 | 2 | 2 | 1 | -0.61809494 |\n\n",
            "text/latex": "A data.frame: 6 × 5\n\\begin{tabular}{r|lllll}\n  & Survival.Months & X6th.Stage & Progesterone.Status & N.Stage & Reginol.Node.Positive\\\\\n  & <dbl> & <dbl> & <dbl> & <dbl> & <dbl>\\\\\n\\hline\n\t2 & -2.0198549 & 2 & 1 & 1 & -0.61809494\\\\\n\t3 &  0.4669010 & 3 & 1 & 1 & -0.22665426\\\\\n\t6 & -1.1909363 & 3 & 2 & 2 & -0.03093393\\\\\n\t7 & -1.5399547 & 1 & 2 & 1 & -0.42237460\\\\\n\t8 & -1.7580911 & 5 & 1 & 3 & -0.27607041\\\\\n\t9 & -0.7982906 & 2 & 2 & 1 & -0.61809494\\\\\n\\end{tabular}\n",
            "text/plain": [
              "  Survival.Months X6th.Stage Progesterone.Status N.Stage Reginol.Node.Positive\n",
              "2 -2.0198549      2          1                   1       -0.61809494          \n",
              "3  0.4669010      3          1                   1       -0.22665426          \n",
              "6 -1.1909363      3          2                   2       -0.03093393          \n",
              "7 -1.5399547      1          2                   1       -0.42237460          \n",
              "8 -1.7580911      5          1                   3       -0.27607041          \n",
              "9 -0.7982906      2          2                   1       -0.61809494          "
            ]
          },
          "metadata": {}
        }
      ]
    },
    {
      "cell_type": "code",
      "source": [
        "head(y_train)"
      ],
      "metadata": {
        "colab": {
          "base_uri": "https://localhost:8080/",
          "height": 34
        },
        "id": "oGC5_VN6q3Lr",
        "outputId": "4107967c-f6f5-4bd8-c8c0-b60ebb736dc5"
      },
      "execution_count": 469,
      "outputs": [
        {
          "output_type": "display_data",
          "data": {
            "text/html": [
              "<style>\n",
              ".list-inline {list-style: none; margin:0; padding: 0}\n",
              ".list-inline>li {display: inline-block}\n",
              ".list-inline>li:not(:last-child)::after {content: \"\\00b7\"; padding: 0 .5ex}\n",
              "</style>\n",
              "<ol class=list-inline><li>'1'</li><li>'1'</li><li>'1'</li><li>'1'</li><li>'1'</li><li>'1'</li></ol>\n"
            ],
            "text/markdown": "1. '1'\n2. '1'\n3. '1'\n4. '1'\n5. '1'\n6. '1'\n\n\n",
            "text/latex": "\\begin{enumerate*}\n\\item '1'\n\\item '1'\n\\item '1'\n\\item '1'\n\\item '1'\n\\item '1'\n\\end{enumerate*}\n",
            "text/plain": [
              "[1] \"1\" \"1\" \"1\" \"1\" \"1\" \"1\""
            ]
          },
          "metadata": {}
        }
      ]
    },
    {
      "cell_type": "markdown",
      "source": [
        "#Hyperparameter tunning\n",
        "To find the best model GridSearchCV was used. It involves defining a grid of hyperparameters to test, and for each combination, the model is trained and validated using cross-validation. The dataset is split into several folds, and for each fold, the model is trained on the training set and evaluated on the validation set. This process is repeated for every combination of hyperparameters, and the combination that results in the best performance metric (such as accuracy, precision, or recall) is selected as the optimal set of hyperparameters."
      ],
      "metadata": {
        "id": "gDHYCn0wPT9s"
      }
    },
    {
      "cell_type": "code",
      "source": [
        "control <- trainControl(method = \"cv\", number = 5, search = \"grid\")"
      ],
      "metadata": {
        "id": "nT9k1h04rj6o"
      },
      "execution_count": 443,
      "outputs": []
    },
    {
      "cell_type": "markdown",
      "source": [
        "##Candidate models"
      ],
      "metadata": {
        "id": "nTRwfTi0sUN4"
      }
    },
    {
      "cell_type": "markdown",
      "source": [
        "###Random Forest\n",
        "\n",
        "Random Forest is an ensemble learning technique used for classification and regression tasks that builds multiple decision trees using bootstrap sampling and random feature selection.\n",
        "\n",
        "Each tree is trained on a different subset of the data, and during tree construction, a random subset of features is chosen for each split. The final prediction is made by aggregating the outputs of all individual trees—using majority voting for classification or averaging for regression.\n"
      ],
      "metadata": {
        "id": "m0wKtcWwsPWU"
      }
    },
    {
      "cell_type": "code",
      "source": [
        "rf_grid <- expand.grid(\n",
        "  mtry = c(2, 3, 4, 5)\n",
        ")\n",
        "rf_model <- train(X_train, y_train, method = \"rf\", tuneGrid = rf_grid, trControl = control)\n",
        "print(\"Random Forest Best Parameters:\")\n",
        "print(rf_model$bestTune)\n"
      ],
      "metadata": {
        "colab": {
          "base_uri": "https://localhost:8080/"
        },
        "id": "shxzEtg1rlC3",
        "outputId": "f6e389b5-a3ce-4372-e280-3ff0128e1c7b"
      },
      "execution_count": 471,
      "outputs": [
        {
          "output_type": "stream",
          "name": "stdout",
          "text": [
            "[1] \"Random Forest Best Parameters:\"\n",
            "  mtry\n",
            "4    5\n"
          ]
        }
      ]
    },
    {
      "cell_type": "markdown",
      "source": [
        "###Support Vector Machine\n",
        "\n",
        "The Supprt Vector Machine works by finding the hyperplane that best separates the data into classes in the feature space, maximizing the margin between the nearest points (support vectors) of different classes. SVM can handle linear and non-linear classification by using kernel functions, which transform the input data into higher dimensions where a hyperplane can be used to separate the classes effectively."
      ],
      "metadata": {
        "id": "h7fHuOApsYTA"
      }
    },
    {
      "cell_type": "code",
      "source": [
        "svm_grid <- expand.grid(\n",
        "  C = c(0.1, 1, 10, 100),\n",
        "  sigma = c(0.01, 0.05, 0.1, 0.5, 1)\n",
        ")\n",
        "svm_model <- train(X_train, y_train, method = \"svmRadial\", tuneGrid = svm_grid, trControl = control)\n",
        "print(\"SVM Best Parameters:\")\n",
        "print(svm_model$bestTune)"
      ],
      "metadata": {
        "colab": {
          "base_uri": "https://localhost:8080/"
        },
        "id": "aHGgYxFertkY",
        "outputId": "31978a57-3a63-4588-bcae-06300eeed70c"
      },
      "execution_count": 472,
      "outputs": [
        {
          "output_type": "stream",
          "name": "stdout",
          "text": [
            "[1] \"SVM Best Parameters:\"\n",
            "   sigma   C\n",
            "19   0.5 100\n"
          ]
        }
      ]
    },
    {
      "cell_type": "markdown",
      "source": [
        "###Gradient Boosting Machine\n",
        "\n",
        "This model builds models in a stage-wise fashion by sequentially adding decision trees, where each new tree corrects the errors made by the previous ones. The algorithm optimizes a loss function by combining the predictions of multiple weak learners, typically shallow trees, to create a strong predictive model.\n",
        "\n",
        "GBM uses gradient descent to minimize the loss function, making the model more accurate with each iteration. This approach helps in capturing complex patterns in the data, leading to high predictive performance and robustness against overfitting.\n"
      ],
      "metadata": {
        "id": "0Gs4V7Awshq5"
      }
    },
    {
      "cell_type": "code",
      "source": [
        "gbm_grid <- expand.grid(\n",
        "  interaction.depth = c(1, 3, 5, 7),\n",
        "  n.trees = c(50, 100, 150, 200),\n",
        "  shrinkage = c(0.01, 0.05, 0.1, 0.2),\n",
        "  n.minobsinnode = c(10, 20)\n",
        ")\n",
        "gbm_model <- train(X_train, y_train, method = \"gbm\", tuneGrid = gbm_grid, trControl = control, verbose = FALSE)\n",
        "print(\"GBM Best Parameters:\")\n",
        "print(gbm_model$bestTune)"
      ],
      "metadata": {
        "colab": {
          "base_uri": "https://localhost:8080/"
        },
        "id": "lawAoITfrvX0",
        "outputId": "654926d8-c54e-41de-e417-08c88cfd7c3a"
      },
      "execution_count": 473,
      "outputs": [
        {
          "output_type": "stream",
          "name": "stdout",
          "text": [
            "[1] \"GBM Best Parameters:\"\n",
            "    n.trees interaction.depth shrinkage n.minobsinnode\n",
            "128     200                 7       0.2             20\n"
          ]
        }
      ]
    },
    {
      "cell_type": "markdown",
      "source": [
        "## Model selection"
      ],
      "metadata": {
        "id": "TNPb4ORBry48"
      }
    },
    {
      "cell_type": "code",
      "source": [
        "rf_predictions <- predict(rf_model, X_test)\n",
        "svm_predictions <- predict(svm_model, X_test)\n",
        "gbm_predictions <- predict(gbm_model, X_test)\n",
        "\n",
        "rf_accuracy <- mean(rf_predictions == y_test)\n",
        "svm_accuracy <- mean(svm_predictions == y_test)\n",
        "gbm_accuracy <- mean(gbm_predictions == y_test)\n",
        "\n",
        "print(paste(\"Random Forest Accuracy:\", rf_accuracy))\n",
        "print(paste(\"SVM Accuracy:\", svm_accuracy))\n",
        "print(paste(\"GBM Accuracy:\", gbm_accuracy))"
      ],
      "metadata": {
        "colab": {
          "base_uri": "https://localhost:8080/"
        },
        "id": "fT3lM1Wer8d3",
        "outputId": "8d964560-c093-47c7-e238-e27807409637"
      },
      "execution_count": 474,
      "outputs": [
        {
          "output_type": "stream",
          "name": "stdout",
          "text": [
            "[1] \"Random Forest Accuracy: 0.857142857142857\"\n",
            "[1] \"SVM Accuracy: 0.814285714285714\"\n",
            "[1] \"GBM Accuracy: 0.880952380952381\"\n"
          ]
        }
      ]
    },
    {
      "cell_type": "markdown",
      "source": [
        "The model with the best accuracy happens to be GBM so we will proceed with this model."
      ],
      "metadata": {
        "id": "D4RRAzQguwgY"
      }
    },
    {
      "cell_type": "markdown",
      "source": [
        "#Model evaluation"
      ],
      "metadata": {
        "id": "q96DAEV-vHVi"
      }
    },
    {
      "cell_type": "code",
      "source": [
        "# Best parameters from the grid search\n",
        "best_params <- gbm_model$bestTune\n",
        "\n",
        "# Retrain GBM model on the training set with the best parameters\n",
        "final_gbm_model <- gbm(\n",
        "  class ~ .,\n",
        "  data = train_data,\n",
        "  distribution = \"gaussian\",\n",
        "  n.trees = best_params$n.trees,\n",
        "  interaction.depth = best_params$interaction.depth,\n",
        "  shrinkage = best_params$shrinkage,\n",
        "  n.minobsinnode = best_params$n.minobsinnode,\n",
        "  cv.folds = 5,\n",
        "  verbose = FALSE\n",
        ")"
      ],
      "metadata": {
        "id": "sDa1zNotwAvl"
      },
      "execution_count": 489,
      "outputs": []
    },
    {
      "cell_type": "code",
      "source": [
        "final_gbm_predictions <- predict(final_gbm_model, X_test, n.trees = best_params$n.trees, type = \"response\")\n",
        "final_gbm_predictions <- ifelse(final_gbm_predictions > 0.5, 1, 0)"
      ],
      "metadata": {
        "id": "ZiVwOssvzRUo"
      },
      "execution_count": 490,
      "outputs": []
    },
    {
      "cell_type": "markdown",
      "source": [
        "##Performance metrics"
      ],
      "metadata": {
        "id": "0EboXQGqzhQO"
      }
    },
    {
      "cell_type": "code",
      "source": [
        "accuracy <- conf_matrix$overall['Accuracy']\n",
        "precision <- conf_matrix$byClass['Pos Pred Value']\n",
        "recall <- conf_matrix$byClass['Sensitivity']\n",
        "f1_score <- 2 * (precision * recall) / (precision + recall)"
      ],
      "metadata": {
        "id": "skbY1KB_zZg7"
      },
      "execution_count": 494,
      "outputs": []
    },
    {
      "cell_type": "code",
      "source": [
        "print(paste(\"Final GBM Model Accuracy on Test Set:\", accuracy))\n",
        "print(paste(\"Precision:\", precision))\n",
        "print(paste(\"Recall:\", recall))\n",
        "print(paste(\"F1 Score:\", f1_score))"
      ],
      "metadata": {
        "colab": {
          "base_uri": "https://localhost:8080/"
        },
        "id": "E01H6c4yzlwO",
        "outputId": "62a6b826-01fd-405a-ec45-329bffabe193"
      },
      "execution_count": 495,
      "outputs": [
        {
          "output_type": "stream",
          "name": "stdout",
          "text": [
            "[1] \"Final GBM Model Accuracy on Test Set: 0.875238095238095\"\n",
            "[1] \"Precision: 0.876712328767123\"\n",
            "[1] \"Recall: 0.939794419970631\"\n",
            "[1] \"F1 Score: 0.907158043940468\"\n"
          ]
        }
      ]
    },
    {
      "cell_type": "markdown",
      "source": [
        "This model resultet in very good performance metrics with respecty to the amount of data it processed. When comparing the accuracy on the test set and the accuracy on the training set we can see that the model is barely overfitting the data which is a very good thing.\n",
        "\n",
        "Precision is very high and most importantly, for a task like this, so is recall which is of high importance in healthcare."
      ],
      "metadata": {
        "id": "p4j2VXAK9kdy"
      }
    },
    {
      "cell_type": "markdown",
      "source": [
        "## Confusion Marix\n",
        "\n",
        "A confusion matrix is a table used to evaluate the performance of a classification model by comparing predicted and actual class labels."
      ],
      "metadata": {
        "id": "o6UIKnMezaN6"
      }
    },
    {
      "cell_type": "code",
      "source": [
        "# Calculating performance metrics\n",
        "conf_matrix <- confusionMatrix(as.factor(final_gbm_predictions), as.factor(y_test))\n",
        "conf_matrix_df <- as.data.frame(conf_matrix$table)"
      ],
      "metadata": {
        "id": "xXs_8fS4zTEO"
      },
      "execution_count": 498,
      "outputs": []
    },
    {
      "cell_type": "code",
      "source": [
        "ggplot(data = conf_matrix_df, aes(x = Reference, y = Prediction)) +\n",
        "  geom_tile(aes(fill = Freq), color = \"white\") +\n",
        "  scale_fill_gradient(low = \"white\", high = \"skyblue\") +\n",
        "  geom_text(aes(label = Freq), vjust = 1) +\n",
        "  labs(title = \"Confusion Matrix\", x = \"Actual\", y = \"Predicted\") +\n",
        "  theme_minimal()"
      ],
      "metadata": {
        "colab": {
          "base_uri": "https://localhost:8080/",
          "height": 437
        },
        "id": "07PUo_fOzvdW",
        "outputId": "fd47fb93-eaa9-4101-a56a-325d96363656"
      },
      "execution_count": 500,
      "outputs": [
        {
          "output_type": "display_data",
          "data": {
            "text/plain": [
              "plot without title"
            ],
            "image/png": "[encoded data removed]"
          },
          "metadata": {
            "image/png": {
              "width": 420,
              "height": 420
            }
          }
        }
      ]
    },
    {
      "cell_type": "markdown",
      "source": [
        "As seen, the model performs very well as it does not result in false positive or negative values."
      ],
      "metadata": {
        "id": "zBbnkA3n-czc"
      }
    },
    {
      "cell_type": "markdown",
      "source": [
        "##Roc-Auc curve\n",
        "\n",
        "The ROC-AUC curve is a graphical representation used to evaluate the performance of a binary classification model. The ROC curve plots the True Positive Rate (sensitivity) against the False Positive Rate (1-specificity) at various threshold settings. The AUC quantifies the overall ability of the model to distinguish between positive and negative classes, with a value ranging from 0 to 1.\n"
      ],
      "metadata": {
        "id": "aWWlMNzA06Mi"
      }
    },
    {
      "cell_type": "code",
      "source": [
        "# Plot ROC curve using ggplot2\n",
        "# Predict probabilities on the test set\n",
        "final_gbm_probabilities <- predict(final_gbm_model, X_test, n.trees = best_params$n.trees, type = \"response\")\n",
        "roc_curve <- roc(y_test, final_gbm_probabilities)\n",
        "\n",
        "roc_data <- data.frame(\n",
        "  tpr = rev(roc_curve$sensitivities),  # True positive rate\n",
        "  fpr = rev(roc_curve$specificities),  # False positive rate\n",
        "  thresholds = rev(roc_curve$thresholds)\n",
        ")\n",
        "\n",
        "ggplot(roc_data, aes(x = fpr, y = tpr)) +\n",
        "  geom_line(color = \"blue\") +\n",
        "  geom_abline(linetype = \"dashed\", color = \"red\") +\n",
        "  ggtitle(\"ROC Curve\") +\n",
        "  xlab(\"False Positive Rate (1 - Specificity)\") +\n",
        "  ylab(\"True Positive Rate (Sensitivity)\") +\n",
        "  theme_minimal() +\n",
        "  annotate(\"text\", x = 0.5, y = 0.5, label = paste(\"AUC =\", round(auc(roc_curve), 2)), color = \"black\", size = 5, hjust = 0.5, vjust = -1.5)"
      ],
      "metadata": {
        "colab": {
          "base_uri": "https://localhost:8080/",
          "height": 506
        },
        "id": "uM8l6u0y09MY",
        "outputId": "f1c4b935-8bdd-4185-eb29-00adee790276"
      },
      "execution_count": 505,
      "outputs": [
        {
          "output_type": "stream",
          "name": "stderr",
          "text": [
            "Setting levels: control = 0, case = 1\n",
            "\n",
            "Setting direction: controls < cases\n",
            "\n"
          ]
        },
        {
          "output_type": "display_data",
          "data": {
            "text/plain": [
              "plot without title"
            ],
            "image/png": "[encoded data removed]"
          },
          "metadata": {
            "image/png": {
              "width": 420,
              "height": 420
            }
          }
        }
      ]
    },
    {
      "cell_type": "markdown",
      "source": [
        "Even according to the ROC-AUC curve the model performs very well as the AUC value is very close to 1 and even the curve itself approaches the top right corner which is an indicator of strong performance."
      ],
      "metadata": {
        "id": "DxZ5j128_VLl"
      }
    },
    {
      "cell_type": "markdown",
      "source": [
        "## Recall-precision curve\n",
        "The Recall-Precision curve is a graphical representation used to evaluate the performance of a binary classification model, particularly under conditions of class imbalance.\n",
        "\n",
        "The curve helps in understanding the trade-off between precision and recall for different threshold settings. A model with a curve closer to the top-right corner indicates better performance, showing high precision and recall."
      ],
      "metadata": {
        "id": "tZDSAO791PbS"
      }
    },
    {
      "cell_type": "code",
      "source": [
        "# Computing Precision-Recall curve\n",
        "pr_curve <- pr.curve(scores.class0 = final_gbm_probabilities, weights.class0 = y_test == 1, curve = TRUE)\n",
        "\n",
        "# Plotting Precision-Recall curve using ggplot2\n",
        "pr_data <- data.frame(\n",
        "  recall = pr_curve$curve[, 1],\n",
        "  precision = pr_curve$curve[, 2]\n",
        ")\n",
        "\n",
        "ggplot(pr_data, aes(x = recall, y = precision)) +\n",
        "  geom_line(color = \"blue\") +\n",
        "  ggtitle(\"Precision-Recall Curve\") +\n",
        "  xlab(\"Recall\") +\n",
        "  ylab(\"Precision\") +\n",
        "  theme_minimal() +\n",
        "  annotate(\"text\", x = 0.5, y = 0.5, label = paste(\"AUC =\", round(pr_curve$auc.integral, 2)), color = \"black\", size = 5, hjust = 0.5, vjust = -1.5)"
      ],
      "metadata": {
        "colab": {
          "base_uri": "https://localhost:8080/",
          "height": 437
        },
        "id": "9-jWkzAm1S3u",
        "outputId": "7356c8fc-e80d-44f5-df9c-83e6db219f65"
      },
      "execution_count": 513,
      "outputs": [
        {
          "output_type": "display_data",
          "data": {
            "text/plain": [
              "plot without title"
            ],
            "image/png": "[encoded data removed]"
          },
          "metadata": {
            "image/png": {
              "width": 420,
              "height": 420
            }
          }
        }
      ]
    },
    {
      "cell_type": "markdown",
      "source": [
        "The AUC value is quite high, at 0.88 precisely which indiates a nice balance between precision and recall. Even the shape of the curve indicates that the model is good at maintaining balance but also it has some variation in permance at different thresholds."
      ],
      "metadata": {
        "id": "ngbN5pOB_9yJ"
      }
    },
    {
      "cell_type": "markdown",
      "source": [
        "## Conclusion"
      ],
      "metadata": {
        "id": "FgJXaSBZAggq"
      }
    },
    {
      "cell_type": "markdown",
      "source": [
        "Key factors that contributed in the reliability of such model were the various methods done in the preprocessing stage as not only the data was easier to process it also was balanced. This balance helped the model in acheiving a very decent performance.\n",
        "\n",
        "A key challenge was the insufficient data and a very high imbalance found on it on the data exploration part. Although this was handled later on, the model could have performed better if the data was of slightly higher quality.\n",
        "\n",
        "The models could have been subject to more rigrorous testing regarding the hyperparameter tunning stage but such thing was not possible due to limited resources. Regardless, the final model can be considered reliable and sufficient for the task at hand."
      ],
      "metadata": {
        "id": "sqS9Ij-CAo5z"
      }
    }
  ],
  "metadata": {
    "colab": {
      "provenance": [],
      "collapsed_sections": [
        "6HMxj1stXQrB",
        "ijLf9oGyqoUc",
        "m0wKtcWwsPWU",
        "h7fHuOApsYTA",
        "0Gs4V7Awshq5",
        "TNPb4ORBry48"
      ]
    },
    "kernelspec": {
      "display_name": "R",
      "name": "ir"
    },
    "language_info": {
      "name": "R"
    }
  },
  "nbformat": 4,
  "nbformat_minor": 0
}